{
  "nbformat": 4,
  "nbformat_minor": 0,
  "metadata": {
    "colab": {
      "name": "Chapter1.ipynb",
      "provenance": [],
      "gpuType": "T4",
      "include_colab_link": true
    },
    "kernelspec": {
      "name": "python3",
      "display_name": "Python 3"
    },
    "language_info": {
      "name": "python"
    },
    "accelerator": "GPU"
  },
  "cells": [
    {
      "cell_type": "markdown",
      "metadata": {
        "id": "view-in-github",
        "colab_type": "text"
      },
      "source": [
        "<a href=\"https://colab.research.google.com/github/uwabami/ml-security-jp/blob/master/ch01/Chapter1.ipynb\" target=\"_parent\"><img src=\"https://colab.research.google.com/assets/colab-badge.svg\" alt=\"Open In Colab\"/></a>"
      ]
    },
    {
      "cell_type": "markdown",
      "metadata": {
        "id": "icMuF6uzg5qR"
      },
      "source": [
        "## 1章 情報セキュリティエンジニアのための機械学習入門"
      ]
    },
    {
      "cell_type": "code",
      "metadata": {
        "id": "8cX0lhShg2D3",
        "colab": {
          "base_uri": "https://localhost:8080/"
        },
        "outputId": "1839e9a6-6e04-4507-a7a0-7d17c7c44121"
      },
      "source": [
        "print(\"Hello world!\")"
      ],
      "execution_count": 1,
      "outputs": [
        {
          "output_type": "stream",
          "name": "stdout",
          "text": [
            "Hello world!\n"
          ]
        }
      ]
    },
    {
      "cell_type": "markdown",
      "source": [
        "## 概要\n",
        "2025年度、北海道情報大学 Jゼミでつかったノートです。元々のオライリーで公開されていたノートに追記していきます。\n",
        "\n",
        "* 利用の際には、ランタイムを T4 GPU にして作業しましょう。"
      ],
      "metadata": {
        "id": "CcnkHb-mT7yu"
      }
    },
    {
      "cell_type": "markdown",
      "source": [
        "# 機械学習とは?\n",
        "\n",
        "* データセットの作成\n",
        "  * データの取得と整理、ラベル付け\n",
        "* データの読み込み、前処理\n",
        "  * 前処理: 欠損値処理、ノイズ除去\n",
        "* データの探索、特徴量の設計\n",
        "  * 見たい・知りたい・推定したい量を「特徴づける」量を探す\n",
        "* モデルの訓練と評価\n",
        "  * データセットを用いた訓練、アンサブル試行など。うまくいかない場合は一つ前にもどって再設計"
      ],
      "metadata": {
        "id": "6zs-KIM-VSiv"
      }
    },
    {
      "cell_type": "markdown",
      "source": [
        "# 今後の予定\n",
        "数学的なお話はあんまりしないけれど、必要に応じて。\n",
        "イメージは沢山話すことになります。図は沢山作ります(主に教員が)。\n",
        "\n",
        "公開されいるライブラリのドキュメントをちゃんと読んで、使えるようになりましょう。"
      ],
      "metadata": {
        "id": "9y_3VHijaL2y"
      }
    }
  ]
}