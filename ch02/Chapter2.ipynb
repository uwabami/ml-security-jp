{
  "nbformat": 4,
  "nbformat_minor": 0,
  "metadata": {
    "colab": {
      "name": "Chapter2.ipynb",
      "provenance": [],
      "include_colab_link": true
    },
    "kernelspec": {
      "display_name": "Python 3",
      "name": "python3"
    }
  },
  "cells": [
    {
      "cell_type": "markdown",
      "metadata": {
        "id": "view-in-github",
        "colab_type": "text"
      },
      "source": [
        "<a href=\"https://colab.research.google.com/github/uwabami/ml-security-jp/blob/master/ch02/Chapter2.ipynb\" target=\"_parent\"><img src=\"https://colab.research.google.com/assets/colab-badge.svg\" alt=\"Open In Colab\"/></a>"
      ]
    },
    {
      "cell_type": "markdown",
      "metadata": {
        "id": "0Ivcg5OTwyTo"
      },
      "source": [
        "![表紙](https://www.oreilly.co.jp/books/images/picture978-4-87311-907-6.gif)\n",
        "\n",
        "このノートブックはオライリー・ジャパンより発行の書籍[『セキュリティエンジニアのための機械学習』](https://www.oreilly.co.jp/books/9784873119076/)のサンプルコードです。コードの解説等は書籍をご参照ください。なお、このコードを動作させた結果について、著者およびオライリー・ジャパンは一切の責任を負いません。"
      ]
    },
    {
      "cell_type": "markdown",
      "metadata": {
        "id": "QU0KMWs5x3Z6"
      },
      "source": [
        "##ロジスティック回帰を使用したフィッシング検出器"
      ]
    },
    {
      "cell_type": "code",
      "metadata": {
        "id": "qnfDbq4x8kAK",
        "colab": {
          "base_uri": "https://localhost:8080/"
        },
        "outputId": "84d55a47-4fa5-4e0d-81d3-a5375615b288"
      },
      "source": [
        "!wget https://github.com/oreilly-japan/ml-security-jp/raw/master/ch02/dataset.csv"
      ],
      "execution_count": 1,
      "outputs": [
        {
          "output_type": "stream",
          "name": "stdout",
          "text": [
            "--2025-07-09 04:34:52--  https://github.com/oreilly-japan/ml-security-jp/raw/master/ch02/dataset.csv\n",
            "Resolving github.com (github.com)... 20.205.243.166\n",
            "Connecting to github.com (github.com)|20.205.243.166|:443... connected.\n",
            "HTTP request sent, awaiting response... 302 Found\n",
            "Location: https://raw.githubusercontent.com/oreilly-japan/ml-security-jp/master/ch02/dataset.csv [following]\n",
            "--2025-07-09 04:34:52--  https://raw.githubusercontent.com/oreilly-japan/ml-security-jp/master/ch02/dataset.csv\n",
            "Resolving raw.githubusercontent.com (raw.githubusercontent.com)... 185.199.108.133, 185.199.109.133, 185.199.110.133, ...\n",
            "Connecting to raw.githubusercontent.com (raw.githubusercontent.com)|185.199.108.133|:443... connected.\n",
            "HTTP request sent, awaiting response... 200 OK\n",
            "Length: 788720 (770K) [text/plain]\n",
            "Saving to: ‘dataset.csv.2’\n",
            "\n",
            "\rdataset.csv.2         0%[                    ]       0  --.-KB/s               \rdataset.csv.2       100%[===================>] 770.23K  --.-KB/s    in 0.01s   \n",
            "\n",
            "2025-07-09 04:34:52 (77.7 MB/s) - ‘dataset.csv.2’ saved [788720/788720]\n",
            "\n"
          ]
        }
      ]
    },
    {
      "cell_type": "code",
      "metadata": {
        "id": "i7hYR1Y2Ripa",
        "colab": {
          "base_uri": "https://localhost:8080/"
        },
        "outputId": "5dd67da1-7aa0-4efd-d893-e2b7ec330eba"
      },
      "source": [
        "!pip install optuna==2.9.0"
      ],
      "execution_count": 2,
      "outputs": [
        {
          "output_type": "stream",
          "name": "stdout",
          "text": [
            "Requirement already satisfied: optuna==2.9.0 in /usr/local/lib/python3.11/dist-packages (2.9.0)\n",
            "Requirement already satisfied: alembic in /usr/local/lib/python3.11/dist-packages (from optuna==2.9.0) (1.16.3)\n",
            "Requirement already satisfied: cliff in /usr/local/lib/python3.11/dist-packages (from optuna==2.9.0) (4.10.0)\n",
            "Requirement already satisfied: cmaes>=0.8.2 in /usr/local/lib/python3.11/dist-packages (from optuna==2.9.0) (0.11.1)\n",
            "Requirement already satisfied: colorlog in /usr/local/lib/python3.11/dist-packages (from optuna==2.9.0) (6.9.0)\n",
            "Requirement already satisfied: numpy in /usr/local/lib/python3.11/dist-packages (from optuna==2.9.0) (2.0.2)\n",
            "Requirement already satisfied: packaging>=20.0 in /usr/local/lib/python3.11/dist-packages (from optuna==2.9.0) (24.2)\n",
            "Requirement already satisfied: scipy!=1.4.0 in /usr/local/lib/python3.11/dist-packages (from optuna==2.9.0) (1.15.3)\n",
            "Requirement already satisfied: sqlalchemy>=1.1.0 in /usr/local/lib/python3.11/dist-packages (from optuna==2.9.0) (2.0.41)\n",
            "Requirement already satisfied: tqdm in /usr/local/lib/python3.11/dist-packages (from optuna==2.9.0) (4.67.1)\n",
            "Requirement already satisfied: PyYAML in /usr/local/lib/python3.11/dist-packages (from optuna==2.9.0) (6.0.2)\n",
            "Requirement already satisfied: greenlet>=1 in /usr/local/lib/python3.11/dist-packages (from sqlalchemy>=1.1.0->optuna==2.9.0) (3.2.3)\n",
            "Requirement already satisfied: typing-extensions>=4.6.0 in /usr/local/lib/python3.11/dist-packages (from sqlalchemy>=1.1.0->optuna==2.9.0) (4.14.0)\n",
            "Requirement already satisfied: Mako in /usr/lib/python3/dist-packages (from alembic->optuna==2.9.0) (1.1.3)\n",
            "Requirement already satisfied: autopage>=0.4.0 in /usr/local/lib/python3.11/dist-packages (from cliff->optuna==2.9.0) (0.5.2)\n",
            "Requirement already satisfied: cmd2>=1.0.0 in /usr/local/lib/python3.11/dist-packages (from cliff->optuna==2.9.0) (2.7.0)\n",
            "Requirement already satisfied: PrettyTable>=0.7.2 in /usr/local/lib/python3.11/dist-packages (from cliff->optuna==2.9.0) (3.16.0)\n",
            "Requirement already satisfied: stevedore>=2.0.1 in /usr/local/lib/python3.11/dist-packages (from cliff->optuna==2.9.0) (5.4.1)\n",
            "Requirement already satisfied: pyperclip>=1.8 in /usr/local/lib/python3.11/dist-packages (from cmd2>=1.0.0->cliff->optuna==2.9.0) (1.9.0)\n",
            "Requirement already satisfied: rich-argparse>=1.7.1 in /usr/local/lib/python3.11/dist-packages (from cmd2>=1.0.0->cliff->optuna==2.9.0) (1.7.1)\n",
            "Requirement already satisfied: wcwidth>=0.2.10 in /usr/local/lib/python3.11/dist-packages (from cmd2>=1.0.0->cliff->optuna==2.9.0) (0.2.13)\n",
            "Requirement already satisfied: pbr>=2.0.0 in /usr/local/lib/python3.11/dist-packages (from stevedore>=2.0.1->cliff->optuna==2.9.0) (6.1.1)\n",
            "Requirement already satisfied: setuptools in /usr/local/lib/python3.11/dist-packages (from pbr>=2.0.0->stevedore>=2.0.1->cliff->optuna==2.9.0) (75.2.0)\n",
            "Requirement already satisfied: rich>=11.0.0 in /usr/local/lib/python3.11/dist-packages (from rich-argparse>=1.7.1->cmd2>=1.0.0->cliff->optuna==2.9.0) (13.9.4)\n",
            "Requirement already satisfied: markdown-it-py>=2.2.0 in /usr/local/lib/python3.11/dist-packages (from rich>=11.0.0->rich-argparse>=1.7.1->cmd2>=1.0.0->cliff->optuna==2.9.0) (3.0.0)\n",
            "Requirement already satisfied: pygments<3.0.0,>=2.13.0 in /usr/local/lib/python3.11/dist-packages (from rich>=11.0.0->rich-argparse>=1.7.1->cmd2>=1.0.0->cliff->optuna==2.9.0) (2.19.2)\n",
            "Requirement already satisfied: mdurl~=0.1 in /usr/local/lib/python3.11/dist-packages (from markdown-it-py>=2.2.0->rich>=11.0.0->rich-argparse>=1.7.1->cmd2>=1.0.0->cliff->optuna==2.9.0) (0.1.2)\n"
          ]
        }
      ]
    },
    {
      "cell_type": "code",
      "metadata": {
        "id": "kwRGDVT7mYeh"
      },
      "source": [
        "from sklearn.linear_model import LogisticRegression\n",
        "from sklearn.metrics import accuracy_score\n",
        "from sklearn.model_selection import train_test_split\n",
        "import numpy as np\n",
        "import optuna\n",
        "from sklearn.model_selection import cross_validate\n",
        "\n",
        "training_data = np.genfromtxt('dataset.csv', delimiter=',', dtype=np.int32)"
      ],
      "execution_count": 3,
      "outputs": []
    },
    {
      "cell_type": "code",
      "metadata": {
        "id": "0aTvRm9-gAXl",
        "colab": {
          "base_uri": "https://localhost:8080/"
        },
        "outputId": "8f99ea7f-657e-4ba5-8ee2-bd3b8748fde6"
      },
      "source": [
        "X = training_data[:,:-1]\n",
        "y = training_data[:, -1]\n",
        "\n",
        "X_train, X_test, y_train, y_test = train_test_split(\n",
        "    X, y, test_size=0.2, shuffle=True, random_state=101)\n",
        "\n",
        "classifier = LogisticRegression(solver='lbfgs')\n",
        "\n",
        "# 訓練用データを使って検出器を訓練する。\n",
        "classifier.fit(X_train, y_train)\n",
        "# 予測させる。\n",
        "predictions = classifier.predict(X_test)\n",
        "\n",
        "# このフィッシング検出器の正解率を出力させる。\n",
        "accuracy = 100.0 * accuracy_score(y_test, predictions)\n",
        "print(\"The accuracy of your Logistic Regression on testing data is: {}\".format(accuracy))"
      ],
      "execution_count": 4,
      "outputs": [
        {
          "output_type": "stream",
          "name": "stdout",
          "text": [
            "The accuracy of your Logistic Regression on testing data is: 92.17548620533695\n"
          ]
        }
      ]
    },
    {
      "cell_type": "code",
      "metadata": {
        "id": "gTAgzVwU7G47",
        "colab": {
          "base_uri": "https://localhost:8080/"
        },
        "outputId": "517e2349-7622-4629-a071-174d27f7def0"
      },
      "source": [
        "from sklearn.model_selection import cross_val_score\n",
        "\n",
        "# 交差検証(5分割)による汎化性能の評価\n",
        "scores = cross_val_score(classifier, X_train, y_train, cv=5)\n",
        "# 評価結果の出力\n",
        "print(\"Evaluated score by cross-validation(k=5): {}\".format(100 * scores.mean()))"
      ],
      "execution_count": 5,
      "outputs": [
        {
          "output_type": "stream",
          "name": "stdout",
          "text": [
            "Evaluated score by cross-validation(k=5): 92.8766156199402\n"
          ]
        }
      ]
    },
    {
      "cell_type": "code",
      "metadata": {
        "id": "R7kMWWXyxlQL",
        "colab": {
          "base_uri": "https://localhost:8080/"
        },
        "outputId": "4a389785-bd8d-471f-d2e9-e0d1b71c1acc"
      },
      "source": [
        "from sklearn.linear_model import LogisticRegression\n",
        "from sklearn.metrics import accuracy_score\n",
        "from sklearn.model_selection import train_test_split\n",
        "import numpy as np\n",
        "import optuna\n",
        "from sklearn.model_selection import cross_validate\n",
        "\n",
        "class Objective:\n",
        "    def __init__(self, X, y):\n",
        "        # 変数X,yの初期化\n",
        "        self.X = X\n",
        "        self.y = y\n",
        "\n",
        "    def __call__(self, trial):\n",
        "        # ターゲットのハイパーパラメータの設定\n",
        "        params = {\n",
        "            # 最適化に使用するアルゴリズムの候補をカテゴリとして指定\n",
        "            'solver' : trial.suggest_categorical('solver',\\\n",
        "                    ['newton-cg', 'lbfgs', \\\n",
        "                    'liblinear', 'sag', 'saga']),\n",
        "            # 正則化の強さに0.0001から10までを指定\n",
        "            'C': trial.suggest_loguniform('C', 0.0001, 10),\n",
        "            # ソルバーが収束するまでの最大反復回数\n",
        "            'max_iter': trial.suggest_int('max_iter', 100, 100000)\n",
        "            }\n",
        "\n",
        "        model = LogisticRegression(**params)\n",
        "\n",
        "        # 評価指標として正解率の最大化を目指す\n",
        "        scores = cross_validate(model,\n",
        "                                X=self.X, y=self.y,\n",
        "                                scoring='accuracy',\n",
        "                                n_jobs=-1)\n",
        "        return scores['test_score'].mean()\n",
        "\n",
        "# ハイパーパラメータの探索\n",
        "objective = Objective(X_train, y_train)\n",
        "study = optuna.create_study(direction='maximize')\n",
        "study.optimize(objective, timeout=60)\n",
        "# ベストのパラメータの出力\n",
        "print('params:', study.best_params)"
      ],
      "execution_count": 6,
      "outputs": [
        {
          "output_type": "stream",
          "name": "stderr",
          "text": [
            "\u001b[32m[I 2025-07-09 04:35:45,724]\u001b[0m A new study created in memory with name: no-name-5ab03326-df1e-4568-8992-bb485aec8e33\u001b[0m\n",
            "\u001b[32m[I 2025-07-09 04:35:50,172]\u001b[0m Trial 0 finished with value: 0.9288792783713478 and parameters: {'solver': 'liblinear', 'C': 0.06343550747350926, 'max_iter': 86896}. Best is trial 0 with value: 0.9288792783713478.\u001b[0m\n",
            "\u001b[32m[I 2025-07-09 04:35:50,381]\u001b[0m Trial 1 finished with value: 0.9289922726493737 and parameters: {'solver': 'lbfgs', 'C': 0.9251413423504107, 'max_iter': 78228}. Best is trial 1 with value: 0.9289922726493737.\u001b[0m\n",
            "\u001b[32m[I 2025-07-09 04:35:50,591]\u001b[0m Trial 2 finished with value: 0.929218580940225 and parameters: {'solver': 'newton-cg', 'C': 0.050751240161220394, 'max_iter': 49042}. Best is trial 2 with value: 0.929218580940225.\u001b[0m\n",
            "\u001b[32m[I 2025-07-09 04:35:51,107]\u001b[0m Trial 3 finished with value: 0.9292185169932651 and parameters: {'solver': 'sag', 'C': 0.20234941158321662, 'max_iter': 4209}. Best is trial 2 with value: 0.929218580940225.\u001b[0m\n",
            "\u001b[32m[I 2025-07-09 04:35:51,336]\u001b[0m Trial 4 finished with value: 0.9291054587682792 and parameters: {'solver': 'newton-cg', 'C': 0.21943654399241463, 'max_iter': 58707}. Best is trial 2 with value: 0.929218580940225.\u001b[0m\n",
            "\u001b[32m[I 2025-07-09 04:35:51,757]\u001b[0m Trial 5 finished with value: 0.9268437187459234 and parameters: {'solver': 'saga', 'C': 0.016255796319299257, 'max_iter': 86752}. Best is trial 2 with value: 0.929218580940225.\u001b[0m\n",
            "\u001b[32m[I 2025-07-09 04:35:52,047]\u001b[0m Trial 6 finished with value: 0.9053600981202152 and parameters: {'solver': 'sag', 'C': 0.00027416750290323546, 'max_iter': 85622}. Best is trial 2 with value: 0.929218580940225.\u001b[0m\n",
            "\u001b[32m[I 2025-07-09 04:35:52,225]\u001b[0m Trial 7 finished with value: 0.9034380443484956 and parameters: {'solver': 'liblinear', 'C': 0.00016982245875720952, 'max_iter': 38546}. Best is trial 2 with value: 0.929218580940225.\u001b[0m\n",
            "\u001b[32m[I 2025-07-09 04:35:52,938]\u001b[0m Trial 8 finished with value: 0.9284269815244443 and parameters: {'solver': 'sag', 'C': 2.255648692670594, 'max_iter': 87649}. Best is trial 2 with value: 0.929218580940225.\u001b[0m\n",
            "\u001b[32m[I 2025-07-09 04:35:53,193]\u001b[0m Trial 9 finished with value: 0.9292185169932651 and parameters: {'solver': 'newton-cg', 'C': 0.5922535674841409, 'max_iter': 89961}. Best is trial 2 with value: 0.929218580940225.\u001b[0m\n",
            "\u001b[32m[I 2025-07-09 04:35:53,389]\u001b[0m Trial 10 finished with value: 0.9227729831768338 and parameters: {'solver': 'newton-cg', 'C': 0.0056437431714167294, 'max_iter': 28927}. Best is trial 2 with value: 0.929218580940225.\u001b[0m\n",
            "\u001b[32m[I 2025-07-09 04:35:54,982]\u001b[0m Trial 11 finished with value: 0.9280878068494868 and parameters: {'solver': 'sag', 'C': 8.260936144854456, 'max_iter': 2054}. Best is trial 2 with value: 0.929218580940225.\u001b[0m\n",
            "\u001b[32m[I 2025-07-09 04:35:55,419]\u001b[0m Trial 12 finished with value: 0.9209637318422608 and parameters: {'solver': 'saga', 'C': 0.0026248612790718225, 'max_iter': 635}. Best is trial 2 with value: 0.929218580940225.\u001b[0m\n",
            "\u001b[32m[I 2025-07-09 04:35:55,620]\u001b[0m Trial 13 finished with value: 0.9298968663431803 and parameters: {'solver': 'lbfgs', 'C': 0.08176667488687653, 'max_iter': 20543}. Best is trial 13 with value: 0.9298968663431803.\u001b[0m\n",
            "\u001b[32m[I 2025-07-09 04:35:55,801]\u001b[0m Trial 14 finished with value: 0.9295577556151825 and parameters: {'solver': 'lbfgs', 'C': 0.038283840857351266, 'max_iter': 24077}. Best is trial 13 with value: 0.9298968663431803.\u001b[0m\n",
            "\u001b[32m[I 2025-07-09 04:35:55,996]\u001b[0m Trial 15 finished with value: 0.9226597970579282 and parameters: {'solver': 'lbfgs', 'C': 0.003508946109445766, 'max_iter': 21038}. Best is trial 13 with value: 0.9298968663431803.\u001b[0m\n",
            "\u001b[32m[I 2025-07-09 04:35:56,157]\u001b[0m Trial 16 finished with value: 0.9139535463704984 and parameters: {'solver': 'lbfgs', 'C': 0.0008126376340260237, 'max_iter': 18366}. Best is trial 13 with value: 0.9298968663431803.\u001b[0m\n",
            "\u001b[32m[I 2025-07-09 04:35:56,354]\u001b[0m Trial 17 finished with value: 0.9282008011275128 and parameters: {'solver': 'lbfgs', 'C': 0.021741623645541067, 'max_iter': 37888}. Best is trial 13 with value: 0.9298968663431803.\u001b[0m\n",
            "\u001b[32m[I 2025-07-09 04:35:56,558]\u001b[0m Trial 18 finished with value: 0.9297839360121142 and parameters: {'solver': 'lbfgs', 'C': 0.15427305858482213, 'max_iter': 13766}. Best is trial 13 with value: 0.9298968663431803.\u001b[0m\n",
            "\u001b[32m[I 2025-07-09 04:35:56,761]\u001b[0m Trial 19 finished with value: 0.9286531619213759 and parameters: {'solver': 'lbfgs', 'C': 0.2885731175408628, 'max_iter': 11033}. Best is trial 13 with value: 0.9298968663431803.\u001b[0m\n",
            "\u001b[32m[I 2025-07-09 04:35:57,015]\u001b[0m Trial 20 finished with value: 0.9284269815244445 and parameters: {'solver': 'lbfgs', 'C': 2.264542416225663, 'max_iter': 64083}. Best is trial 13 with value: 0.9298968663431803.\u001b[0m\n",
            "\u001b[32m[I 2025-07-09 04:35:57,271]\u001b[0m Trial 21 finished with value: 0.9301230467401119 and parameters: {'solver': 'lbfgs', 'C': 0.08063984307024803, 'max_iter': 29623}. Best is trial 21 with value: 0.9301230467401119.\u001b[0m\n",
            "\u001b[32m[I 2025-07-09 04:35:57,565]\u001b[0m Trial 22 finished with value: 0.9298969302901401 and parameters: {'solver': 'lbfgs', 'C': 0.10700316958583302, 'max_iter': 33428}. Best is trial 21 with value: 0.9301230467401119.\u001b[0m\n",
            "\u001b[32m[I 2025-07-09 04:35:57,796]\u001b[0m Trial 23 finished with value: 0.9250344674113504 and parameters: {'solver': 'lbfgs', 'C': 0.01039057660668944, 'max_iter': 34524}. Best is trial 21 with value: 0.9301230467401119.\u001b[0m\n",
            "\u001b[32m[I 2025-07-09 04:35:58,067]\u001b[0m Trial 24 finished with value: 0.9302361049650978 and parameters: {'solver': 'lbfgs', 'C': 0.09787373357897029, 'max_iter': 47832}. Best is trial 24 with value: 0.9302361049650978.\u001b[0m\n",
            "\u001b[32m[I 2025-07-09 04:35:58,602]\u001b[0m Trial 25 finished with value: 0.9286530979744161 and parameters: {'solver': 'liblinear', 'C': 0.9461836100650372, 'max_iter': 46867}. Best is trial 24 with value: 0.9302361049650978.\u001b[0m\n",
            "\u001b[32m[I 2025-07-09 04:35:59,340]\u001b[0m Trial 26 finished with value: 0.9302361049650978 and parameters: {'solver': 'saga', 'C': 0.10567906958657879, 'max_iter': 63313}. Best is trial 24 with value: 0.9302361049650978.\u001b[0m\n",
            "\u001b[32m[I 2025-07-09 04:36:00,260]\u001b[0m Trial 27 finished with value: 0.9288792783713478 and parameters: {'solver': 'saga', 'C': 0.43424913744437604, 'max_iter': 65950}. Best is trial 24 with value: 0.9302361049650978.\u001b[0m\n",
            "\u001b[32m[I 2025-07-09 04:36:00,896]\u001b[0m Trial 28 finished with value: 0.9285401036963901 and parameters: {'solver': 'saga', 'C': 0.024372825188222178, 'max_iter': 55640}. Best is trial 24 with value: 0.9302361049650978.\u001b[0m\n",
            "\u001b[32m[I 2025-07-09 04:36:01,330]\u001b[0m Trial 29 finished with value: 0.9298969302901401 and parameters: {'solver': 'saga', 'C': 0.06451190086341675, 'max_iter': 71051}. Best is trial 24 with value: 0.9302361049650978.\u001b[0m\n",
            "\u001b[32m[I 2025-07-09 04:36:01,552]\u001b[0m Trial 30 finished with value: 0.9229992914676851 and parameters: {'solver': 'liblinear', 'C': 0.006971375539704029, 'max_iter': 97957}. Best is trial 24 with value: 0.9302361049650978.\u001b[0m\n",
            "\u001b[32m[I 2025-07-09 04:36:01,975]\u001b[0m Trial 31 finished with value: 0.9295577556151826 and parameters: {'solver': 'saga', 'C': 0.05874373366811513, 'max_iter': 74079}. Best is trial 24 with value: 0.9302361049650978.\u001b[0m\n",
            "\u001b[32m[I 2025-07-09 04:36:02,389]\u001b[0m Trial 32 finished with value: 0.9298969302901401 and parameters: {'solver': 'saga', 'C': 0.11001252233623178, 'max_iter': 72828}. Best is trial 24 with value: 0.9302361049650978.\u001b[0m\n",
            "\u001b[32m[I 2025-07-09 04:36:03,218]\u001b[0m Trial 33 finished with value: 0.9291053308743595 and parameters: {'solver': 'saga', 'C': 1.1676300492425602, 'max_iter': 44583}. Best is trial 24 with value: 0.9302361049650978.\u001b[0m\n",
            "\u001b[32m[I 2025-07-09 04:36:03,429]\u001b[0m Trial 34 finished with value: 0.9298969942371 and parameters: {'solver': 'lbfgs', 'C': 0.12594763128057532, 'max_iter': 55754}. Best is trial 24 with value: 0.9302361049650978.\u001b[0m\n",
            "\u001b[32m[I 2025-07-09 04:36:03,652]\u001b[0m Trial 35 finished with value: 0.9287662201463618 and parameters: {'solver': 'lbfgs', 'C': 0.34717331193750006, 'max_iter': 53020}. Best is trial 24 with value: 0.9302361049650978.\u001b[0m\n",
            "\u001b[32m[I 2025-07-09 04:36:03,845]\u001b[0m Trial 36 finished with value: 0.9292185809402248 and parameters: {'solver': 'lbfgs', 'C': 0.030600603846832275, 'max_iter': 60247}. Best is trial 24 with value: 0.9302361049650978.\u001b[0m\n",
            "\u001b[32m[I 2025-07-09 04:36:04,047]\u001b[0m Trial 37 finished with value: 0.9295578195621423 and parameters: {'solver': 'lbfgs', 'C': 0.1728613275138654, 'max_iter': 43092}. Best is trial 24 with value: 0.9302361049650978.\u001b[0m\n",
            "\u001b[32m[I 2025-07-09 04:36:04,259]\u001b[0m Trial 38 finished with value: 0.9263914858459799 and parameters: {'solver': 'newton-cg', 'C': 0.014518996430767499, 'max_iter': 53901}. Best is trial 24 with value: 0.9302361049650978.\u001b[0m\n",
            "\u001b[32m[I 2025-07-09 04:36:04,652]\u001b[0m Trial 39 finished with value: 0.929218580940225 and parameters: {'solver': 'sag', 'C': 0.05363117390492266, 'max_iter': 49865}. Best is trial 24 with value: 0.9302361049650978.\u001b[0m\n",
            "\u001b[32m[I 2025-07-09 04:36:04,955]\u001b[0m Trial 40 finished with value: 0.9296708138401684 and parameters: {'solver': 'liblinear', 'C': 0.18866440927686326, 'max_iter': 78918}. Best is trial 24 with value: 0.9302361049650978.\u001b[0m\n",
            "\u001b[32m[I 2025-07-09 04:36:05,156]\u001b[0m Trial 41 finished with value: 0.9302361049650978 and parameters: {'solver': 'lbfgs', 'C': 0.10398708265522229, 'max_iter': 31193}. Best is trial 24 with value: 0.9302361049650978.\u001b[0m\n",
            "\u001b[32m[I 2025-07-09 04:36:05,358]\u001b[0m Trial 42 finished with value: 0.9300100524620859 and parameters: {'solver': 'lbfgs', 'C': 0.11106728824348773, 'max_iter': 62316}. Best is trial 24 with value: 0.9302361049650978.\u001b[0m\n",
            "\u001b[32m[I 2025-07-09 04:36:05,573]\u001b[0m Trial 43 finished with value: 0.9291054587682792 and parameters: {'solver': 'lbfgs', 'C': 0.668773587968992, 'max_iter': 26324}. Best is trial 24 with value: 0.9302361049650978.\u001b[0m\n",
            "\u001b[32m[I 2025-07-09 04:36:05,803]\u001b[0m Trial 44 finished with value: 0.9287662201463618 and parameters: {'solver': 'lbfgs', 'C': 0.2607105074622619, 'max_iter': 62513}. Best is trial 24 with value: 0.9302361049650978.\u001b[0m\n",
            "\u001b[32m[I 2025-07-09 04:36:06,014]\u001b[0m Trial 45 finished with value: 0.929218580940225 and parameters: {'solver': 'newton-cg', 'C': 0.04161357470779565, 'max_iter': 40128}. Best is trial 24 with value: 0.9302361049650978.\u001b[0m\n",
            "\u001b[32m[I 2025-07-09 04:36:06,206]\u001b[0m Trial 46 finished with value: 0.9300099885151261 and parameters: {'solver': 'lbfgs', 'C': 0.07765143627285664, 'max_iter': 30622}. Best is trial 24 with value: 0.9302361049650978.\u001b[0m\n",
            "\u001b[32m[I 2025-07-09 04:36:06,963]\u001b[0m Trial 47 finished with value: 0.9286530979744161 and parameters: {'solver': 'sag', 'C': 1.7627693751274927, 'max_iter': 67826}. Best is trial 24 with value: 0.9302361049650978.\u001b[0m\n",
            "\u001b[32m[I 2025-07-09 04:36:07,175]\u001b[0m Trial 48 finished with value: 0.9291054587682792 and parameters: {'solver': 'lbfgs', 'C': 0.6166522641519749, 'max_iter': 78888}. Best is trial 24 with value: 0.9302361049650978.\u001b[0m\n",
            "\u001b[32m[I 2025-07-09 04:36:07,418]\u001b[0m Trial 49 finished with value: 0.9280878068494868 and parameters: {'solver': 'lbfgs', 'C': 4.9645421454476955, 'max_iter': 6697}. Best is trial 24 with value: 0.9302361049650978.\u001b[0m\n",
            "\u001b[32m[I 2025-07-09 04:36:07,851]\u001b[0m Trial 50 finished with value: 0.9279745567836214 and parameters: {'solver': 'saga', 'C': 0.01932184104995827, 'max_iter': 49932}. Best is trial 24 with value: 0.9302361049650978.\u001b[0m\n",
            "\u001b[32m[I 2025-07-09 04:36:08,043]\u001b[0m Trial 51 finished with value: 0.9298968663431804 and parameters: {'solver': 'lbfgs', 'C': 0.08631201466051491, 'max_iter': 32169}. Best is trial 24 with value: 0.9302361049650978.\u001b[0m\n",
            "\u001b[32m[I 2025-07-09 04:36:08,244]\u001b[0m Trial 52 finished with value: 0.9300099885151261 and parameters: {'solver': 'lbfgs', 'C': 0.075480339254128, 'max_iter': 28581}. Best is trial 24 with value: 0.9302361049650978.\u001b[0m\n",
            "\u001b[32m[I 2025-07-09 04:36:08,437]\u001b[0m Trial 53 finished with value: 0.9294446973901968 and parameters: {'solver': 'lbfgs', 'C': 0.040316656348797046, 'max_iter': 37434}. Best is trial 24 with value: 0.9302361049650978.\u001b[0m\n",
            "\u001b[32m[I 2025-07-09 04:36:08,638]\u001b[0m Trial 54 finished with value: 0.9288793423183075 and parameters: {'solver': 'lbfgs', 'C': 0.2194807688826533, 'max_iter': 30517}. Best is trial 24 with value: 0.9302361049650978.\u001b[0m\n",
            "\u001b[32m[I 2025-07-09 04:36:08,869]\u001b[0m Trial 55 finished with value: 0.9298969942371 and parameters: {'solver': 'lbfgs', 'C': 0.12700643846286247, 'max_iter': 16073}. Best is trial 24 with value: 0.9302361049650978.\u001b[0m\n",
            "\u001b[32m[I 2025-07-09 04:36:09,124]\u001b[0m Trial 56 finished with value: 0.9287662201463618 and parameters: {'solver': 'newton-cg', 'C': 0.40689180533971436, 'max_iter': 24843}. Best is trial 24 with value: 0.9302361049650978.\u001b[0m\n",
            "\u001b[32m[I 2025-07-09 04:36:09,306]\u001b[0m Trial 57 finished with value: 0.9250344674113504 and parameters: {'solver': 'lbfgs', 'C': 0.01030218377669942, 'max_iter': 42269}. Best is trial 24 with value: 0.9302361049650978.\u001b[0m\n",
            "\u001b[32m[I 2025-07-09 04:36:09,661]\u001b[0m Trial 58 finished with value: 0.9289923365963336 and parameters: {'solver': 'sag', 'C': 0.02726742166084368, 'max_iter': 59300}. Best is trial 24 with value: 0.9302361049650978.\u001b[0m\n",
            "\u001b[32m[I 2025-07-09 04:36:09,959]\u001b[0m Trial 59 finished with value: 0.9295578195621423 and parameters: {'solver': 'liblinear', 'C': 0.07843720440997642, 'max_iter': 22078}. Best is trial 24 with value: 0.9302361049650978.\u001b[0m\n",
            "\u001b[32m[I 2025-07-09 04:36:10,152]\u001b[0m Trial 60 finished with value: 0.9291055227152392 and parameters: {'solver': 'lbfgs', 'C': 0.04790775454392148, 'max_iter': 35545}. Best is trial 24 with value: 0.9302361049650978.\u001b[0m\n",
            "\u001b[32m[I 2025-07-09 04:36:10,378]\u001b[0m Trial 61 finished with value: 0.9300099885151261 and parameters: {'solver': 'lbfgs', 'C': 0.08999858802779044, 'max_iter': 28072}. Best is trial 24 with value: 0.9302361049650978.\u001b[0m\n",
            "\u001b[32m[I 2025-07-09 04:36:10,638]\u001b[0m Trial 62 finished with value: 0.9296708777871283 and parameters: {'solver': 'lbfgs', 'C': 0.15861997093250135, 'max_iter': 27259}. Best is trial 24 with value: 0.9302361049650978.\u001b[0m\n",
            "\u001b[32m[I 2025-07-09 04:36:10,798]\u001b[0m Trial 63 finished with value: 0.9298969302901401 and parameters: {'solver': 'lbfgs', 'C': 0.0738616486667945, 'max_iter': 47341}. Best is trial 24 with value: 0.9302361049650978.\u001b[0m\n",
            "\u001b[32m[I 2025-07-09 04:36:11,071]\u001b[0m Trial 64 finished with value: 0.9285401036963901 and parameters: {'solver': 'lbfgs', 'C': 0.2748899228858397, 'max_iter': 17420}. Best is trial 24 with value: 0.9302361049650978.\u001b[0m\n",
            "\u001b[32m[I 2025-07-09 04:36:11,304]\u001b[0m Trial 65 finished with value: 0.9298969302901401 and parameters: {'solver': 'lbfgs', 'C': 0.110523365659453, 'max_iter': 9462}. Best is trial 24 with value: 0.9302361049650978.\u001b[0m\n",
            "\u001b[32m[I 2025-07-09 04:36:11,978]\u001b[0m Trial 66 finished with value: 0.9293316391652107 and parameters: {'solver': 'saga', 'C': 0.033502227527638824, 'max_iter': 20598}. Best is trial 24 with value: 0.9302361049650978.\u001b[0m\n",
            "\u001b[32m[I 2025-07-09 04:36:12,252]\u001b[0m Trial 67 finished with value: 0.9303491631900837 and parameters: {'solver': 'lbfgs', 'C': 0.09735937530854318, 'max_iter': 68790}. Best is trial 67 with value: 0.9303491631900837.\u001b[0m\n",
            "\u001b[32m[I 2025-07-09 04:36:12,512]\u001b[0m Trial 68 finished with value: 0.9289923365963336 and parameters: {'solver': 'lbfgs', 'C': 0.4684191759372434, 'max_iter': 69271}. Best is trial 67 with value: 0.9303491631900837.\u001b[0m\n",
            "\u001b[32m[I 2025-07-09 04:36:12,937]\u001b[0m Trial 69 finished with value: 0.917232490682928 and parameters: {'solver': 'saga', 'C': 0.0012032478631019974, 'max_iter': 81786}. Best is trial 67 with value: 0.9303491631900837.\u001b[0m\n",
            "\u001b[32m[I 2025-07-09 04:36:13,158]\u001b[0m Trial 70 finished with value: 0.9297839360121142 and parameters: {'solver': 'lbfgs', 'C': 0.15056614865952292, 'max_iter': 62130}. Best is trial 67 with value: 0.9303491631900837.\u001b[0m\n",
            "\u001b[32m[I 2025-07-09 04:36:13,321]\u001b[0m Trial 71 finished with value: 0.8593406045289795 and parameters: {'solver': 'lbfgs', 'C': 0.00010322775749151727, 'max_iter': 75877}. Best is trial 67 with value: 0.9303491631900837.\u001b[0m\n",
            "\u001b[32m[I 2025-07-09 04:36:13,514]\u001b[0m Trial 72 finished with value: 0.9294446973901968 and parameters: {'solver': 'lbfgs', 'C': 0.054078605117241815, 'max_iter': 30753}. Best is trial 67 with value: 0.9303491631900837.\u001b[0m\n",
            "\u001b[32m[I 2025-07-09 04:36:13,717]\u001b[0m Trial 73 finished with value: 0.9298969302901401 and parameters: {'solver': 'lbfgs', 'C': 0.06659597128193458, 'max_iter': 65910}. Best is trial 67 with value: 0.9303491631900837.\u001b[0m\n",
            "\u001b[32m[I 2025-07-09 04:36:13,918]\u001b[0m Trial 74 finished with value: 0.9288793423183075 and parameters: {'solver': 'lbfgs', 'C': 0.23046587509976924, 'max_iter': 56556}. Best is trial 67 with value: 0.9303491631900837.\u001b[0m\n",
            "\u001b[32m[I 2025-07-09 04:36:14,171]\u001b[0m Trial 75 finished with value: 0.925938997158197 and parameters: {'solver': 'liblinear', 'C': 0.0141568307605393, 'max_iter': 39788}. Best is trial 67 with value: 0.9303491631900837.\u001b[0m\n",
            "\u001b[32m[I 2025-07-09 04:36:14,375]\u001b[0m Trial 76 finished with value: 0.9302361049650978 and parameters: {'solver': 'lbfgs', 'C': 0.0901757160353824, 'max_iter': 35966}. Best is trial 67 with value: 0.9303491631900837.\u001b[0m\n",
            "\u001b[32m[I 2025-07-09 04:36:14,597]\u001b[0m Trial 77 finished with value: 0.9298969942371 and parameters: {'solver': 'newton-cg', 'C': 0.1112811457791534, 'max_iter': 35117}. Best is trial 67 with value: 0.9303491631900837.\u001b[0m\n",
            "\u001b[32m[I 2025-07-09 04:36:15,123]\u001b[0m Trial 78 finished with value: 0.9286531619213759 and parameters: {'solver': 'sag', 'C': 0.31233850534826296, 'max_iter': 45891}. Best is trial 67 with value: 0.9303491631900837.\u001b[0m\n",
            "\u001b[32m[I 2025-07-09 04:36:15,336]\u001b[0m Trial 79 finished with value: 0.9295578195621423 and parameters: {'solver': 'lbfgs', 'C': 0.17484725307204904, 'max_iter': 41960}. Best is trial 67 with value: 0.9303491631900837.\u001b[0m\n",
            "\u001b[32m[I 2025-07-09 04:36:15,751]\u001b[0m Trial 80 finished with value: 0.9293316391652107 and parameters: {'solver': 'saga', 'C': 0.03364013478116925, 'max_iter': 53380}. Best is trial 67 with value: 0.9303491631900837.\u001b[0m\n",
            "\u001b[32m[I 2025-07-09 04:36:15,954]\u001b[0m Trial 81 finished with value: 0.9300099245681661 and parameters: {'solver': 'lbfgs', 'C': 0.08675213327974486, 'max_iter': 24368}. Best is trial 67 with value: 0.9303491631900837.\u001b[0m\n",
            "\u001b[32m[I 2025-07-09 04:36:16,145]\u001b[0m Trial 82 finished with value: 0.9291055227152392 and parameters: {'solver': 'lbfgs', 'C': 0.050154505753027205, 'max_iter': 31751}. Best is trial 67 with value: 0.9303491631900837.\u001b[0m\n",
            "\u001b[32m[I 2025-07-09 04:36:16,351]\u001b[0m Trial 83 finished with value: 0.9297839360121142 and parameters: {'solver': 'lbfgs', 'C': 0.1430453768230143, 'max_iter': 36391}. Best is trial 67 with value: 0.9303491631900837.\u001b[0m\n",
            "\u001b[32m[I 2025-07-09 04:36:16,555]\u001b[0m Trial 84 finished with value: 0.9300099245681661 and parameters: {'solver': 'lbfgs', 'C': 0.0871541074330768, 'max_iter': 33568}. Best is trial 67 with value: 0.9303491631900837.\u001b[0m\n",
            "\u001b[32m[I 2025-07-09 04:36:16,738]\u001b[0m Trial 85 finished with value: 0.9285399758024704 and parameters: {'solver': 'lbfgs', 'C': 0.02370559631874315, 'max_iter': 27005}. Best is trial 67 with value: 0.9303491631900837.\u001b[0m\n",
            "\u001b[32m[I 2025-07-09 04:36:16,939]\u001b[0m Trial 86 finished with value: 0.929218580940225 and parameters: {'solver': 'lbfgs', 'C': 0.1970835332455984, 'max_iter': 71071}. Best is trial 67 with value: 0.9303491631900837.\u001b[0m\n",
            "\u001b[32m[I 2025-07-09 04:36:17,142]\u001b[0m Trial 87 finished with value: 0.9295577556151826 and parameters: {'solver': 'lbfgs', 'C': 0.06191272254017152, 'max_iter': 29979}. Best is trial 67 with value: 0.9303491631900837.\u001b[0m\n",
            "\u001b[32m[I 2025-07-09 04:36:17,556]\u001b[0m Trial 88 finished with value: 0.9291055227152392 and parameters: {'solver': 'saga', 'C': 0.04288366602626222, 'max_iter': 63112}. Best is trial 67 with value: 0.9303491631900837.\u001b[0m\n",
            "\u001b[32m[I 2025-07-09 04:36:17,758]\u001b[0m Trial 89 finished with value: 0.9301230467401119 and parameters: {'solver': 'lbfgs', 'C': 0.0916221649656505, 'max_iter': 38729}. Best is trial 67 with value: 0.9303491631900837.\u001b[0m\n",
            "\u001b[32m[I 2025-07-09 04:36:17,943]\u001b[0m Trial 90 finished with value: 0.9272962074337061 and parameters: {'solver': 'lbfgs', 'C': 0.017925330461942342, 'max_iter': 39832}. Best is trial 67 with value: 0.9303491631900837.\u001b[0m\n",
            "\u001b[32m[I 2025-07-09 04:36:18,145]\u001b[0m Trial 91 finished with value: 0.9302361049650978 and parameters: {'solver': 'lbfgs', 'C': 0.102889159373411, 'max_iter': 23004}. Best is trial 67 with value: 0.9303491631900837.\u001b[0m\n",
            "\u001b[32m[I 2025-07-09 04:36:18,347]\u001b[0m Trial 92 finished with value: 0.9298969942371 and parameters: {'solver': 'lbfgs', 'C': 0.11469457672800193, 'max_iter': 21795}. Best is trial 67 with value: 0.9303491631900837.\u001b[0m\n",
            "\u001b[32m[I 2025-07-09 04:36:18,550]\u001b[0m Trial 93 finished with value: 0.9298969942371 and parameters: {'solver': 'lbfgs', 'C': 0.13453544818998928, 'max_iter': 38235}. Best is trial 67 with value: 0.9303491631900837.\u001b[0m\n",
            "\u001b[32m[I 2025-07-09 04:36:18,751]\u001b[0m Trial 94 finished with value: 0.9298969302901401 and parameters: {'solver': 'lbfgs', 'C': 0.0642861927705991, 'max_iter': 57668}. Best is trial 67 with value: 0.9303491631900837.\u001b[0m\n",
            "\u001b[32m[I 2025-07-09 04:36:19,045]\u001b[0m Trial 95 finished with value: 0.9295577556151826 and parameters: {'solver': 'liblinear', 'C': 0.21213781219586852, 'max_iter': 52360}. Best is trial 67 with value: 0.9303491631900837.\u001b[0m\n",
            "\u001b[32m[I 2025-07-09 04:36:19,260]\u001b[0m Trial 96 finished with value: 0.9302361049650978 and parameters: {'solver': 'lbfgs', 'C': 0.1062243539465986, 'max_iter': 33656}. Best is trial 67 with value: 0.9303491631900837.\u001b[0m\n",
            "\u001b[32m[I 2025-07-09 04:36:19,502]\u001b[0m Trial 97 finished with value: 0.9287662201463618 and parameters: {'solver': 'newton-cg', 'C': 0.3512237946366125, 'max_iter': 43736}. Best is trial 67 with value: 0.9303491631900837.\u001b[0m\n",
            "\u001b[32m[I 2025-07-09 04:36:19,705]\u001b[0m Trial 98 finished with value: 0.9298969302901401 and parameters: {'solver': 'lbfgs', 'C': 0.10823364626934319, 'max_iter': 66895}. Best is trial 67 with value: 0.9303491631900837.\u001b[0m\n",
            "\u001b[32m[I 2025-07-09 04:36:20,230]\u001b[0m Trial 99 finished with value: 0.9288793423183075 and parameters: {'solver': 'sag', 'C': 0.2547851373254842, 'max_iter': 33510}. Best is trial 67 with value: 0.9303491631900837.\u001b[0m\n",
            "\u001b[32m[I 2025-07-09 04:36:20,421]\u001b[0m Trial 100 finished with value: 0.9302361049650978 and parameters: {'solver': 'lbfgs', 'C': 0.09985994401613234, 'max_iter': 47769}. Best is trial 67 with value: 0.9303491631900837.\u001b[0m\n",
            "\u001b[32m[I 2025-07-09 04:36:20,623]\u001b[0m Trial 101 finished with value: 0.9296708777871283 and parameters: {'solver': 'lbfgs', 'C': 0.15979736435813593, 'max_iter': 47938}. Best is trial 67 with value: 0.9303491631900837.\u001b[0m\n",
            "\u001b[32m[I 2025-07-09 04:36:20,827]\u001b[0m Trial 102 finished with value: 0.9302361049650978 and parameters: {'solver': 'lbfgs', 'C': 0.09537127692224126, 'max_iter': 44523}. Best is trial 67 with value: 0.9303491631900837.\u001b[0m\n",
            "\u001b[32m[I 2025-07-09 04:36:21,019]\u001b[0m Trial 103 finished with value: 0.9289924644902532 and parameters: {'solver': 'lbfgs', 'C': 0.05137582164983296, 'max_iter': 51171}. Best is trial 67 with value: 0.9303491631900837.\u001b[0m\n",
            "\u001b[32m[I 2025-07-09 04:36:21,211]\u001b[0m Trial 104 finished with value: 0.9302361049650978 and parameters: {'solver': 'lbfgs', 'C': 0.09706750470775828, 'max_iter': 45631}. Best is trial 67 with value: 0.9303491631900837.\u001b[0m\n",
            "\u001b[32m[I 2025-07-09 04:36:21,413]\u001b[0m Trial 105 finished with value: 0.9301230467401119 and parameters: {'solver': 'lbfgs', 'C': 0.09254978804861763, 'max_iter': 44753}. Best is trial 67 with value: 0.9303491631900837.\u001b[0m\n",
            "\u001b[32m[I 2025-07-09 04:36:21,595]\u001b[0m Trial 106 finished with value: 0.9293316391652107 and parameters: {'solver': 'lbfgs', 'C': 0.03465471456438888, 'max_iter': 41571}. Best is trial 67 with value: 0.9303491631900837.\u001b[0m\n",
            "\u001b[32m[I 2025-07-09 04:36:22,160]\u001b[0m Trial 107 finished with value: 0.9291053948213195 and parameters: {'solver': 'saga', 'C': 0.5064653729625075, 'max_iter': 49486}. Best is trial 67 with value: 0.9303491631900837.\u001b[0m\n",
            "\u001b[32m[I 2025-07-09 04:36:22,374]\u001b[0m Trial 108 finished with value: 0.9298969942371 and parameters: {'solver': 'lbfgs', 'C': 0.13436364059580197, 'max_iter': 46594}. Best is trial 67 with value: 0.9303491631900837.\u001b[0m\n",
            "\u001b[32m[I 2025-07-09 04:36:22,621]\u001b[0m Trial 109 finished with value: 0.9291054587682792 and parameters: {'solver': 'lbfgs', 'C': 0.1983948498148204, 'max_iter': 38492}. Best is trial 67 with value: 0.9303491631900837.\u001b[0m\n",
            "\u001b[32m[I 2025-07-09 04:36:22,859]\u001b[0m Trial 110 finished with value: 0.9300099885151261 and parameters: {'solver': 'lbfgs', 'C': 0.0641505004722899, 'max_iter': 91924}. Best is trial 67 with value: 0.9303491631900837.\u001b[0m\n",
            "\u001b[32m[I 2025-07-09 04:36:23,098]\u001b[0m Trial 111 finished with value: 0.9297838081181945 and parameters: {'solver': 'lbfgs', 'C': 0.07270386288134192, 'max_iter': 45695}. Best is trial 67 with value: 0.9303491631900837.\u001b[0m\n",
            "\u001b[32m[I 2025-07-09 04:36:23,352]\u001b[0m Trial 112 finished with value: 0.9300099245681661 and parameters: {'solver': 'lbfgs', 'C': 0.08714744734440137, 'max_iter': 45097}. Best is trial 67 with value: 0.9303491631900837.\u001b[0m\n",
            "\u001b[32m[I 2025-07-09 04:36:23,590]\u001b[0m Trial 113 finished with value: 0.9302361049650978 and parameters: {'solver': 'lbfgs', 'C': 0.0978793844753472, 'max_iter': 48583}. Best is trial 67 with value: 0.9303491631900837.\u001b[0m\n",
            "\u001b[32m[I 2025-07-09 04:36:23,847]\u001b[0m Trial 114 finished with value: 0.9302361049650978 and parameters: {'solver': 'lbfgs', 'C': 0.10525819815679052, 'max_iter': 42886}. Best is trial 67 with value: 0.9303491631900837.\u001b[0m\n",
            "\u001b[32m[I 2025-07-09 04:36:24,079]\u001b[0m Trial 115 finished with value: 0.929218580940225 and parameters: {'solver': 'lbfgs', 'C': 0.042668030240783195, 'max_iter': 50594}. Best is trial 67 with value: 0.9303491631900837.\u001b[0m\n",
            "\u001b[32m[I 2025-07-09 04:36:24,320]\u001b[0m Trial 116 finished with value: 0.9298969942371 and parameters: {'solver': 'lbfgs', 'C': 0.1370075935749793, 'max_iter': 41077}. Best is trial 67 with value: 0.9303491631900837.\u001b[0m\n",
            "\u001b[32m[I 2025-07-09 04:36:24,792]\u001b[0m Trial 117 finished with value: 0.9295578195621423 and parameters: {'solver': 'saga', 'C': 0.17510326055212055, 'max_iter': 48957}. Best is trial 67 with value: 0.9303491631900837.\u001b[0m\n",
            "\u001b[32m[I 2025-07-09 04:36:24,994]\u001b[0m Trial 118 finished with value: 0.9302361049650978 and parameters: {'solver': 'lbfgs', 'C': 0.10422760831698197, 'max_iter': 43171}. Best is trial 67 with value: 0.9303491631900837.\u001b[0m\n",
            "\u001b[32m[I 2025-07-09 04:36:25,307]\u001b[0m Trial 119 finished with value: 0.9288792783713478 and parameters: {'solver': 'liblinear', 'C': 0.28554371513662935, 'max_iter': 36455}. Best is trial 67 with value: 0.9303491631900837.\u001b[0m\n",
            "\u001b[32m[I 2025-07-09 04:36:25,526]\u001b[0m Trial 120 finished with value: 0.9297838720651542 and parameters: {'solver': 'lbfgs', 'C': 0.060127288931741664, 'max_iter': 43202}. Best is trial 67 with value: 0.9303491631900837.\u001b[0m\n",
            "\u001b[32m[I 2025-07-09 04:36:25,728]\u001b[0m Trial 121 finished with value: 0.9298969302901401 and parameters: {'solver': 'lbfgs', 'C': 0.10680110910987281, 'max_iter': 47239}. Best is trial 67 with value: 0.9303491631900837.\u001b[0m\n",
            "\u001b[32m[I 2025-07-09 04:36:25,921]\u001b[0m Trial 122 finished with value: 0.9302361049650978 and parameters: {'solver': 'lbfgs', 'C': 0.10309874517417314, 'max_iter': 54637}. Best is trial 67 with value: 0.9303491631900837.\u001b[0m\n",
            "\u001b[32m[I 2025-07-09 04:36:26,134]\u001b[0m Trial 123 finished with value: 0.9298969942371 and parameters: {'solver': 'lbfgs', 'C': 0.12812980198061166, 'max_iter': 56228}. Best is trial 67 with value: 0.9303491631900837.\u001b[0m\n",
            "\u001b[32m[I 2025-07-09 04:36:26,331]\u001b[0m Trial 124 finished with value: 0.9289923365963336 and parameters: {'solver': 'lbfgs', 'C': 0.027316510250506815, 'max_iter': 51138}. Best is trial 67 with value: 0.9303491631900837.\u001b[0m\n",
            "\u001b[32m[I 2025-07-09 04:36:26,559]\u001b[0m Trial 125 finished with value: 0.9289924005432934 and parameters: {'solver': 'lbfgs', 'C': 0.2277657846160187, 'max_iter': 54678}. Best is trial 67 with value: 0.9303491631900837.\u001b[0m\n",
            "\u001b[32m[I 2025-07-09 04:36:26,772]\u001b[0m Trial 126 finished with value: 0.9291055227152392 and parameters: {'solver': 'newton-cg', 'C': 0.04795545994240866, 'max_iter': 14430}. Best is trial 67 with value: 0.9303491631900837.\u001b[0m\n",
            "\u001b[32m[I 2025-07-09 04:36:26,973]\u001b[0m Trial 127 finished with value: 0.9296708777871283 and parameters: {'solver': 'lbfgs', 'C': 0.17071264048414325, 'max_iter': 60394}. Best is trial 67 with value: 0.9303491631900837.\u001b[0m\n",
            "\u001b[32m[I 2025-07-09 04:36:27,403]\u001b[0m Trial 128 finished with value: 0.9297838081181945 and parameters: {'solver': 'sag', 'C': 0.07192444570270157, 'max_iter': 64813}. Best is trial 67 with value: 0.9303491631900837.\u001b[0m\n",
            "\u001b[32m[I 2025-07-09 04:36:27,617]\u001b[0m Trial 129 finished with value: 0.9298969942371 and parameters: {'solver': 'lbfgs', 'C': 0.12692733871431153, 'max_iter': 43185}. Best is trial 67 with value: 0.9303491631900837.\u001b[0m\n",
            "\u001b[32m[I 2025-07-09 04:36:27,819]\u001b[0m Trial 130 finished with value: 0.9294446973901968 and parameters: {'solver': 'lbfgs', 'C': 0.05772931370085396, 'max_iter': 53439}. Best is trial 67 with value: 0.9303491631900837.\u001b[0m\n",
            "\u001b[32m[I 2025-07-09 04:36:28,021]\u001b[0m Trial 131 finished with value: 0.9302361049650978 and parameters: {'solver': 'lbfgs', 'C': 0.09753414977627882, 'max_iter': 48219}. Best is trial 67 with value: 0.9303491631900837.\u001b[0m\n",
            "\u001b[32m[I 2025-07-09 04:36:28,213]\u001b[0m Trial 132 finished with value: 0.9302361049650978 and parameters: {'solver': 'lbfgs', 'C': 0.09561904240281907, 'max_iter': 47487}. Best is trial 67 with value: 0.9303491631900837.\u001b[0m\n",
            "\u001b[32m[I 2025-07-09 04:36:28,415]\u001b[0m Trial 133 finished with value: 0.9298969302901401 and parameters: {'solver': 'lbfgs', 'C': 0.07252314197244356, 'max_iter': 47018}. Best is trial 67 with value: 0.9303491631900837.\u001b[0m\n",
            "\u001b[32m[I 2025-07-09 04:36:28,632]\u001b[0m Trial 134 finished with value: 0.9297839360121142 and parameters: {'solver': 'lbfgs', 'C': 0.15531266300258337, 'max_iter': 40235}. Best is trial 67 with value: 0.9303491631900837.\u001b[0m\n",
            "\u001b[32m[I 2025-07-09 04:36:28,827]\u001b[0m Trial 135 finished with value: 0.9295577556151825 and parameters: {'solver': 'lbfgs', 'C': 0.03818618841472499, 'max_iter': 48690}. Best is trial 67 with value: 0.9303491631900837.\u001b[0m\n",
            "\u001b[32m[I 2025-07-09 04:36:29,030]\u001b[0m Trial 136 finished with value: 0.9297838081181945 and parameters: {'solver': 'lbfgs', 'C': 0.08363224204142829, 'max_iter': 44376}. Best is trial 67 with value: 0.9303491631900837.\u001b[0m\n",
            "\u001b[32m[I 2025-07-09 04:36:29,244]\u001b[0m Trial 137 finished with value: 0.9300100524620859 and parameters: {'solver': 'lbfgs', 'C': 0.11181001301830132, 'max_iter': 69359}. Best is trial 67 with value: 0.9303491631900837.\u001b[0m\n",
            "\u001b[32m[I 2025-07-09 04:36:29,772]\u001b[0m Trial 138 finished with value: 0.9287662201463618 and parameters: {'solver': 'saga', 'C': 0.35750661462579636, 'max_iter': 51239}. Best is trial 67 with value: 0.9303491631900837.\u001b[0m\n",
            "\u001b[32m[I 2025-07-09 04:36:29,934]\u001b[0m Trial 139 finished with value: 0.9068301108328708 and parameters: {'solver': 'lbfgs', 'C': 0.00030509034478549274, 'max_iter': 57980}. Best is trial 67 with value: 0.9303491631900837.\u001b[0m\n",
            "\u001b[32m[I 2025-07-09 04:36:30,137]\u001b[0m Trial 140 finished with value: 0.9291054587682792 and parameters: {'solver': 'lbfgs', 'C': 0.20690332844761716, 'max_iter': 42466}. Best is trial 67 with value: 0.9303491631900837.\u001b[0m\n",
            "\u001b[32m[I 2025-07-09 04:36:30,358]\u001b[0m Trial 141 finished with value: 0.9302361049650978 and parameters: {'solver': 'lbfgs', 'C': 0.09637242846428053, 'max_iter': 48583}. Best is trial 67 with value: 0.9303491631900837.\u001b[0m\n",
            "\u001b[32m[I 2025-07-09 04:36:30,562]\u001b[0m Trial 142 finished with value: 0.9302361049650978 and parameters: {'solver': 'lbfgs', 'C': 0.1031255114440108, 'max_iter': 52847}. Best is trial 67 with value: 0.9303491631900837.\u001b[0m\n",
            "\u001b[32m[I 2025-07-09 04:36:30,775]\u001b[0m Trial 143 finished with value: 0.9298969942371 and parameters: {'solver': 'lbfgs', 'C': 0.13875051650713877, 'max_iter': 54446}. Best is trial 67 with value: 0.9303491631900837.\u001b[0m\n",
            "\u001b[32m[I 2025-07-09 04:36:30,958]\u001b[0m Trial 144 finished with value: 0.9294446973901968 and parameters: {'solver': 'lbfgs', 'C': 0.05451882460143918, 'max_iter': 73651}. Best is trial 67 with value: 0.9303491631900837.\u001b[0m\n",
            "\u001b[32m[I 2025-07-09 04:36:31,161]\u001b[0m Trial 145 finished with value: 0.9300099885151261 and parameters: {'solver': 'lbfgs', 'C': 0.07174776402899118, 'max_iter': 52272}. Best is trial 67 with value: 0.9303491631900837.\u001b[0m\n",
            "\u001b[32m[I 2025-07-09 04:36:31,366]\u001b[0m Trial 146 finished with value: 0.9302361049650978 and parameters: {'solver': 'lbfgs', 'C': 0.08986512033482577, 'max_iter': 44669}. Best is trial 67 with value: 0.9303491631900837.\u001b[0m\n",
            "\u001b[32m[I 2025-07-09 04:36:31,570]\u001b[0m Trial 147 finished with value: 0.9296708777871283 and parameters: {'solver': 'lbfgs', 'C': 0.164564029708486, 'max_iter': 35694}. Best is trial 67 with value: 0.9303491631900837.\u001b[0m\n",
            "\u001b[32m[I 2025-07-09 04:36:32,026]\u001b[0m Trial 148 finished with value: 0.930122982793152 and parameters: {'solver': 'saga', 'C': 0.08493124850889146, 'max_iter': 45135}. Best is trial 67 with value: 0.9303491631900837.\u001b[0m\n",
            "\u001b[32m[I 2025-07-09 04:36:32,228]\u001b[0m Trial 149 finished with value: 0.9298969942371 and parameters: {'solver': 'lbfgs', 'C': 0.11960066965857365, 'max_iter': 60462}. Best is trial 67 with value: 0.9303491631900837.\u001b[0m\n",
            "\u001b[32m[I 2025-07-09 04:36:32,492]\u001b[0m Trial 150 finished with value: 0.9286531619213759 and parameters: {'solver': 'liblinear', 'C': 0.045581818651281546, 'max_iter': 49570}. Best is trial 67 with value: 0.9303491631900837.\u001b[0m\n",
            "\u001b[32m[I 2025-07-09 04:36:32,695]\u001b[0m Trial 151 finished with value: 0.9302361049650978 and parameters: {'solver': 'lbfgs', 'C': 0.09878990274189375, 'max_iter': 49549}. Best is trial 67 with value: 0.9303491631900837.\u001b[0m\n",
            "\u001b[32m[I 2025-07-09 04:36:32,890]\u001b[0m Trial 152 finished with value: 0.9295577556151825 and parameters: {'solver': 'lbfgs', 'C': 0.06241293285215318, 'max_iter': 47124}. Best is trial 67 with value: 0.9303491631900837.\u001b[0m\n",
            "\u001b[32m[I 2025-07-09 04:36:33,105]\u001b[0m Trial 153 finished with value: 0.9298969942371 and parameters: {'solver': 'lbfgs', 'C': 0.11741735961996348, 'max_iter': 41562}. Best is trial 67 with value: 0.9303491631900837.\u001b[0m\n",
            "\u001b[32m[I 2025-07-09 04:36:33,309]\u001b[0m Trial 154 finished with value: 0.9302361049650978 and parameters: {'solver': 'lbfgs', 'C': 0.09749507214459228, 'max_iter': 52910}. Best is trial 67 with value: 0.9303491631900837.\u001b[0m\n",
            "\u001b[32m[I 2025-07-09 04:36:33,521]\u001b[0m Trial 155 finished with value: 0.9293316391652109 and parameters: {'solver': 'lbfgs', 'C': 0.18492985118559355, 'max_iter': 56443}. Best is trial 67 with value: 0.9303491631900837.\u001b[0m\n",
            "\u001b[32m[I 2025-07-09 04:36:33,725]\u001b[0m Trial 156 finished with value: 0.9286531619213759 and parameters: {'solver': 'lbfgs', 'C': 0.24962550372690862, 'max_iter': 48704}. Best is trial 67 with value: 0.9303491631900837.\u001b[0m\n",
            "\u001b[32m[I 2025-07-09 04:36:33,939]\u001b[0m Trial 157 finished with value: 0.9300099245681661 and parameters: {'solver': 'newton-cg', 'C': 0.08319731196433072, 'max_iter': 33013}. Best is trial 67 with value: 0.9303491631900837.\u001b[0m\n",
            "\u001b[32m[I 2025-07-09 04:36:34,152]\u001b[0m Trial 158 finished with value: 0.9298969942371 and parameters: {'solver': 'lbfgs', 'C': 0.13875258991735043, 'max_iter': 40057}. Best is trial 67 with value: 0.9303491631900837.\u001b[0m\n",
            "\u001b[32m[I 2025-07-09 04:36:34,351]\u001b[0m Trial 159 finished with value: 0.9298969302901401 and parameters: {'solver': 'lbfgs', 'C': 0.06643102985533426, 'max_iter': 76423}. Best is trial 67 with value: 0.9303491631900837.\u001b[0m\n",
            "\u001b[32m[I 2025-07-09 04:36:34,553]\u001b[0m Trial 160 finished with value: 0.9296708777871283 and parameters: {'solver': 'lbfgs', 'C': 0.16737984965293984, 'max_iter': 24960}. Best is trial 67 with value: 0.9303491631900837.\u001b[0m\n",
            "\u001b[32m[I 2025-07-09 04:36:34,813]\u001b[0m Trial 161 finished with value: 0.9302361049650978 and parameters: {'solver': 'lbfgs', 'C': 0.10036663369984047, 'max_iter': 46384}. Best is trial 67 with value: 0.9303491631900837.\u001b[0m\n",
            "\u001b[32m[I 2025-07-09 04:36:35,074]\u001b[0m Trial 162 finished with value: 0.9300100524620859 and parameters: {'solver': 'lbfgs', 'C': 0.11148680477931726, 'max_iter': 47288}. Best is trial 67 with value: 0.9303491631900837.\u001b[0m\n",
            "\u001b[32m[I 2025-07-09 04:36:35,336]\u001b[0m Trial 163 finished with value: 0.9301230467401119 and parameters: {'solver': 'lbfgs', 'C': 0.0938042886904509, 'max_iter': 45585}. Best is trial 67 with value: 0.9303491631900837.\u001b[0m\n",
            "\u001b[32m[I 2025-07-09 04:36:35,997]\u001b[0m Trial 164 finished with value: 0.9300099245681663 and parameters: {'solver': 'sag', 'C': 0.0744705857550634, 'max_iter': 42965}. Best is trial 67 with value: 0.9303491631900837.\u001b[0m\n",
            "\u001b[32m[I 2025-07-09 04:36:36,255]\u001b[0m Trial 165 finished with value: 0.9297839360121142 and parameters: {'solver': 'lbfgs', 'C': 0.14491422028861403, 'max_iter': 50889}. Best is trial 67 with value: 0.9303491631900837.\u001b[0m\n",
            "\u001b[32m[I 2025-07-09 04:36:36,496]\u001b[0m Trial 166 finished with value: 0.929218580940225 and parameters: {'solver': 'lbfgs', 'C': 0.05362620943031251, 'max_iter': 50011}. Best is trial 67 with value: 0.9303491631900837.\u001b[0m\n",
            "\u001b[32m[I 2025-07-09 04:36:36,692]\u001b[0m Trial 167 finished with value: 0.9300099885151261 and parameters: {'solver': 'lbfgs', 'C': 0.08020869775160679, 'max_iter': 44213}. Best is trial 67 with value: 0.9303491631900837.\u001b[0m\n",
            "\u001b[32m[I 2025-07-09 04:36:36,895]\u001b[0m Trial 168 finished with value: 0.9302361049650978 and parameters: {'solver': 'lbfgs', 'C': 0.09913452241923193, 'max_iter': 53250}. Best is trial 67 with value: 0.9303491631900837.\u001b[0m\n",
            "\u001b[32m[I 2025-07-09 04:36:37,310]\u001b[0m Trial 169 finished with value: 0.9298969942371 and parameters: {'solver': 'saga', 'C': 0.12309003194687851, 'max_iter': 19443}. Best is trial 67 with value: 0.9303491631900837.\u001b[0m\n",
            "\u001b[32m[I 2025-07-09 04:36:37,513]\u001b[0m Trial 170 finished with value: 0.9288793423183075 and parameters: {'solver': 'lbfgs', 'C': 0.22649281853258194, 'max_iter': 53195}. Best is trial 67 with value: 0.9303491631900837.\u001b[0m\n",
            "\u001b[32m[I 2025-07-09 04:36:37,716]\u001b[0m Trial 171 finished with value: 0.9302361049650978 and parameters: {'solver': 'lbfgs', 'C': 0.09486177865198948, 'max_iter': 51657}. Best is trial 67 with value: 0.9303491631900837.\u001b[0m\n",
            "\u001b[32m[I 2025-07-09 04:36:37,911]\u001b[0m Trial 172 finished with value: 0.9302361049650978 and parameters: {'solver': 'lbfgs', 'C': 0.09116338596636012, 'max_iter': 37766}. Best is trial 67 with value: 0.9303491631900837.\u001b[0m\n",
            "\u001b[32m[I 2025-07-09 04:36:38,114]\u001b[0m Trial 173 finished with value: 0.9301230467401119 and parameters: {'solver': 'lbfgs', 'C': 0.0921830682024349, 'max_iter': 48838}. Best is trial 67 with value: 0.9303491631900837.\u001b[0m\n",
            "\u001b[32m[I 2025-07-09 04:36:38,318]\u001b[0m Trial 174 finished with value: 0.9296708138401684 and parameters: {'solver': 'lbfgs', 'C': 0.06095162296292183, 'max_iter': 34747}. Best is trial 67 with value: 0.9303491631900837.\u001b[0m\n",
            "\u001b[32m[I 2025-07-09 04:36:38,521]\u001b[0m Trial 175 finished with value: 0.9297839360121142 and parameters: {'solver': 'lbfgs', 'C': 0.14960053413282598, 'max_iter': 44352}. Best is trial 67 with value: 0.9303491631900837.\u001b[0m\n",
            "\u001b[32m[I 2025-07-09 04:36:38,724]\u001b[0m Trial 176 finished with value: 0.9300099885151261 and parameters: {'solver': 'lbfgs', 'C': 0.0704318318561275, 'max_iter': 37915}. Best is trial 67 with value: 0.9303491631900837.\u001b[0m\n",
            "\u001b[32m[I 2025-07-09 04:36:38,934]\u001b[0m Trial 177 finished with value: 0.9298969942371 and parameters: {'solver': 'lbfgs', 'C': 0.11589575947608036, 'max_iter': 47734}. Best is trial 67 with value: 0.9303491631900837.\u001b[0m\n",
            "\u001b[32m[I 2025-07-09 04:36:39,128]\u001b[0m Trial 178 finished with value: 0.9292186448871848 and parameters: {'solver': 'lbfgs', 'C': 0.04615209627083208, 'max_iter': 42091}. Best is trial 67 with value: 0.9303491631900837.\u001b[0m\n",
            "\u001b[32m[I 2025-07-09 04:36:39,332]\u001b[0m Trial 179 finished with value: 0.9300100524620859 and parameters: {'solver': 'lbfgs', 'C': 0.11104011049648257, 'max_iter': 54766}. Best is trial 67 with value: 0.9303491631900837.\u001b[0m\n",
            "\u001b[32m[I 2025-07-09 04:36:39,540]\u001b[0m Trial 180 finished with value: 0.9294446973901966 and parameters: {'solver': 'lbfgs', 'C': 0.18946837064754915, 'max_iter': 28792}. Best is trial 67 with value: 0.9303491631900837.\u001b[0m\n",
            "\u001b[32m[I 2025-07-09 04:36:39,746]\u001b[0m Trial 181 finished with value: 0.9298969942371 and parameters: {'solver': 'lbfgs', 'C': 0.13465335412236445, 'max_iter': 46436}. Best is trial 67 with value: 0.9303491631900837.\u001b[0m\n",
            "\u001b[32m[I 2025-07-09 04:36:39,949]\u001b[0m Trial 182 finished with value: 0.9301230467401119 and parameters: {'solver': 'lbfgs', 'C': 0.07945319387319102, 'max_iter': 46038}. Best is trial 67 with value: 0.9303491631900837.\u001b[0m\n",
            "\u001b[32m[I 2025-07-09 04:36:40,152]\u001b[0m Trial 183 finished with value: 0.9302361049650978 and parameters: {'solver': 'lbfgs', 'C': 0.10535848547963564, 'max_iter': 50281}. Best is trial 67 with value: 0.9303491631900837.\u001b[0m\n",
            "\u001b[32m[I 2025-07-09 04:36:40,359]\u001b[0m Trial 184 finished with value: 0.9302361049650978 and parameters: {'solver': 'lbfgs', 'C': 0.09106596181738856, 'max_iter': 48583}. Best is trial 67 with value: 0.9303491631900837.\u001b[0m\n",
            "\u001b[32m[I 2025-07-09 04:36:40,571]\u001b[0m Trial 185 finished with value: 0.9296708138401684 and parameters: {'solver': 'lbfgs', 'C': 0.058409594780272585, 'max_iter': 69423}. Best is trial 67 with value: 0.9303491631900837.\u001b[0m\n",
            "\u001b[32m[I 2025-07-09 04:36:40,765]\u001b[0m Trial 186 finished with value: 0.9300099885151261 and parameters: {'solver': 'lbfgs', 'C': 0.07761968047096507, 'max_iter': 50259}. Best is trial 67 with value: 0.9303491631900837.\u001b[0m\n",
            "\u001b[32m[I 2025-07-09 04:36:41,070]\u001b[0m Trial 187 finished with value: 0.9296708138401684 and parameters: {'solver': 'liblinear', 'C': 0.146436849271978, 'max_iter': 43092}. Best is trial 67 with value: 0.9303491631900837.\u001b[0m\n",
            "\u001b[32m[I 2025-07-09 04:36:41,277]\u001b[0m Trial 188 finished with value: 0.9298969302901401 and parameters: {'solver': 'lbfgs', 'C': 0.1077700162045782, 'max_iter': 45775}. Best is trial 67 with value: 0.9303491631900837.\u001b[0m\n",
            "\u001b[32m[I 2025-07-09 04:36:41,481]\u001b[0m Trial 189 finished with value: 0.9302361049650978 and parameters: {'solver': 'lbfgs', 'C': 0.09268822749135769, 'max_iter': 52448}. Best is trial 67 with value: 0.9303491631900837.\u001b[0m\n",
            "\u001b[32m[I 2025-07-09 04:36:41,896]\u001b[0m Trial 190 finished with value: 0.9298969942371 and parameters: {'solver': 'saga', 'C': 0.13388947786216263, 'max_iter': 58410}. Best is trial 67 with value: 0.9303491631900837.\u001b[0m\n",
            "\u001b[32m[I 2025-07-09 04:36:42,112]\u001b[0m Trial 191 finished with value: 0.9300099245681663 and parameters: {'solver': 'lbfgs', 'C': 0.08278234700743348, 'max_iter': 55263}. Best is trial 67 with value: 0.9303491631900837.\u001b[0m\n",
            "\u001b[32m[I 2025-07-09 04:36:42,318]\u001b[0m Trial 192 finished with value: 0.9295577556151825 and parameters: {'solver': 'lbfgs', 'C': 0.0625619981741162, 'max_iter': 51802}. Best is trial 67 with value: 0.9303491631900837.\u001b[0m\n",
            "\u001b[32m[I 2025-07-09 04:36:42,521]\u001b[0m Trial 193 finished with value: 0.9303491631900837 and parameters: {'solver': 'lbfgs', 'C': 0.10083924894656962, 'max_iter': 32107}. Best is trial 67 with value: 0.9303491631900837.\u001b[0m\n",
            "\u001b[32m[I 2025-07-09 04:36:42,725]\u001b[0m Trial 194 finished with value: 0.9298969302901401 and parameters: {'solver': 'lbfgs', 'C': 0.10807260215728438, 'max_iter': 48396}. Best is trial 67 with value: 0.9303491631900837.\u001b[0m\n",
            "\u001b[32m[I 2025-07-09 04:36:42,940]\u001b[0m Trial 195 finished with value: 0.9296708777871283 and parameters: {'solver': 'lbfgs', 'C': 0.1606135918952247, 'max_iter': 36823}. Best is trial 67 with value: 0.9303491631900837.\u001b[0m\n",
            "\u001b[32m[I 2025-07-09 04:36:43,155]\u001b[0m Trial 196 finished with value: 0.9291054587682792 and parameters: {'solver': 'lbfgs', 'C': 0.195251820192563, 'max_iter': 29529}. Best is trial 67 with value: 0.9303491631900837.\u001b[0m\n",
            "\u001b[32m[I 2025-07-09 04:36:43,372]\u001b[0m Trial 197 finished with value: 0.9298968663431804 and parameters: {'solver': 'newton-cg', 'C': 0.07389606061500884, 'max_iter': 32359}. Best is trial 67 with value: 0.9303491631900837.\u001b[0m\n",
            "\u001b[32m[I 2025-07-09 04:36:43,565]\u001b[0m Trial 198 finished with value: 0.9303491631900837 and parameters: {'solver': 'lbfgs', 'C': 0.10264692974528565, 'max_iter': 52303}. Best is trial 67 with value: 0.9303491631900837.\u001b[0m\n",
            "\u001b[32m[I 2025-07-09 04:36:45,356]\u001b[0m Trial 199 finished with value: 0.9280878068494868 and parameters: {'solver': 'sag', 'C': 9.201398619818619, 'max_iter': 34433}. Best is trial 67 with value: 0.9303491631900837.\u001b[0m\n",
            "\u001b[32m[I 2025-07-09 04:36:45,562]\u001b[0m Trial 200 finished with value: 0.9298969942371 and parameters: {'solver': 'lbfgs', 'C': 0.12628605019632813, 'max_iter': 55106}. Best is trial 67 with value: 0.9303491631900837.\u001b[0m\n",
            "\u001b[32m[I 2025-07-09 04:36:45,755]\u001b[0m Trial 201 finished with value: 0.9302361049650978 and parameters: {'solver': 'lbfgs', 'C': 0.10518983995600649, 'max_iter': 48993}. Best is trial 67 with value: 0.9303491631900837.\u001b[0m\n"
          ]
        },
        {
          "output_type": "stream",
          "name": "stdout",
          "text": [
            "params: {'solver': 'lbfgs', 'C': 0.09735937530854318, 'max_iter': 68790}\n"
          ]
        }
      ]
    },
    {
      "cell_type": "code",
      "metadata": {
        "id": "0AAJGkE35Kcl",
        "colab": {
          "base_uri": "https://localhost:8080/"
        },
        "outputId": "58b0c9d6-a98a-49e6-8f18-b72ad6bebc74"
      },
      "source": [
        "from sklearn.metrics import confusion_matrix, accuracy_score\n",
        "\n",
        "model = LogisticRegression(\n",
        "    # ハイパーパラメータ探索で特定した値を設定\n",
        "    solver = study.best_params['solver'],\n",
        "    C = study.best_params['C'],\n",
        "    max_iter = study.best_params['max_iter']\n",
        ")\n",
        "\n",
        "model.fit(X_train, y_train)\n",
        "pred = model.predict(X_test)\n",
        "# 正解率の出力\n",
        "print(\"Accuracy: {:.5f} %\".format(100 * accuracy_score(y_test, pred)))\n",
        "# 混同行列の出力\n",
        "print(confusion_matrix(y_test, pred))"
      ],
      "execution_count": 7,
      "outputs": [
        {
          "output_type": "stream",
          "name": "stdout",
          "text": [
            "Accuracy: 92.26594 %\n",
            "[[ 874   97]\n",
            " [  74 1166]]\n"
          ]
        }
      ]
    },
    {
      "cell_type": "code",
      "metadata": {
        "id": "EKZRlpGSDFh6",
        "colab": {
          "base_uri": "https://localhost:8080/"
        },
        "outputId": "f2061b6c-1b93-4b5b-b2de-bd891d69624b"
      },
      "source": [
        "from sklearn.metrics import precision_score, recall_score\n",
        "\n",
        "# 適合率の確認\n",
        "print(\"Precision: {:.5f} %\".format(100 * precision_score(y_test, pred)))\n",
        "# 再現率の確認\n",
        "print(\"Recall: {:.5f} %\".format(100 * recall_score(y_test, pred)))"
      ],
      "execution_count": 8,
      "outputs": [
        {
          "output_type": "stream",
          "name": "stdout",
          "text": [
            "Precision: 92.31987 %\n",
            "Recall: 94.03226 %\n"
          ]
        }
      ]
    },
    {
      "cell_type": "markdown",
      "metadata": {
        "id": "fwVXagaQxnDn"
      },
      "source": [
        "##決定木を使用したフィッシング検出器"
      ]
    },
    {
      "cell_type": "code",
      "metadata": {
        "id": "5KyBu4q8xDwM",
        "colab": {
          "base_uri": "https://localhost:8080/",
          "height": 1000
        },
        "outputId": "966796e0-837e-4473-b8de-ae1a9c034f63"
      },
      "source": [
        "from sklearn.tree import DecisionTreeClassifier\n",
        "from sklearn.metrics import accuracy_score\n",
        "import numpy as np\n",
        "import optuna\n",
        "from sklearn.model_selection import cross_validate\n",
        "\n",
        "class Objective_DTC:\n",
        "    def __init__(self, X, y):\n",
        "        # 変数X,yの初期化\n",
        "        self.X = X\n",
        "        self.y = y\n",
        "\n",
        "    def __call__(self, trial):\n",
        "        # ターゲットのハイパーパラメータの設定\n",
        "        params = {\n",
        "            'criterion':\\\n",
        "            trial.suggest_categorical('criterion', ['gini', 'entropy']),\n",
        "            'splitter':\\\n",
        "            trial.suggest_categorical('splitter', ['best', 'random']),\n",
        "            'max_features':\\\n",
        "            trial.suggest_categorical('max_features', ['auto', 'sqrt', 'log2']),\n",
        "            'min_samples_split':\\\n",
        "            trial.suggest_int('min_samples_split', 2, 64),\n",
        "            'max_depth':\\\n",
        "            trial.suggest_int('max_depth', 2, 64)\n",
        "            }\n",
        "\n",
        "        model = DecisionTreeClassifier(**params)\n",
        "\n",
        "        # 評価指標として正解率の最大化を目指す\n",
        "        scores = cross_validate(model,\n",
        "                                X=self.X, y=self.y,\n",
        "                                scoring='accuracy',\n",
        "                                n_jobs=-1)\n",
        "        return scores['test_score'].mean()\n",
        "\n",
        "objective = Objective_DTC(X_train, y_train)\n",
        "study = optuna.create_study(direction='maximize')\n",
        "# timeoutに60を指定し、最大で1分間探索させる\n",
        "study.optimize(objective, timeout=60)\n",
        "print('params:', study.best_params)"
      ],
      "execution_count": 10,
      "outputs": [
        {
          "output_type": "stream",
          "name": "stderr",
          "text": [
            "\u001b[32m[I 2025-07-09 04:37:06,009]\u001b[0m A new study created in memory with name: no-name-7a86c268-f54c-4575-89da-7cbc253f1be7\u001b[0m\n",
            "\u001b[33m[W 2025-07-09 04:37:06,127]\u001b[0m Trial 0 failed because of the following error: ValueError('\\nAll the 5 fits failed.\\nIt is very likely that your model is misconfigured.\\nYou can try to debug the error by setting error_score=\\'raise\\'.\\n\\nBelow are more details about the failures:\\n--------------------------------------------------------------------------------\\n2 fits failed with the following error:\\nTraceback (most recent call last):\\n  File \"/usr/local/lib/python3.11/dist-packages/sklearn/model_selection/_validation.py\", line 866, in _fit_and_score\\n    estimator.fit(X_train, y_train, **fit_params)\\n  File \"/usr/local/lib/python3.11/dist-packages/sklearn/base.py\", line 1382, in wrapper\\n    estimator._validate_params()\\n  File \"/usr/local/lib/python3.11/dist-packages/sklearn/base.py\", line 436, in _validate_params\\n    validate_parameter_constraints(\\n  File \"/usr/local/lib/python3.11/dist-packages/sklearn/utils/_param_validation.py\", line 98, in validate_parameter_constraints\\n    raise InvalidParameterError(\\nsklearn.utils._param_validation.InvalidParameterError: The \\'max_features\\' parameter of DecisionTreeClassifier must be an int in the range [1, inf), a float in the range (0.0, 1.0], a str among {\\'log2\\', \\'sqrt\\'} or None. Got \\'auto\\' instead.\\n\\n--------------------------------------------------------------------------------\\n3 fits failed with the following error:\\nTraceback (most recent call last):\\n  File \"/usr/local/lib/python3.11/dist-packages/sklearn/model_selection/_validation.py\", line 866, in _fit_and_score\\n    estimator.fit(X_train, y_train, **fit_params)\\n  File \"/usr/local/lib/python3.11/dist-packages/sklearn/base.py\", line 1382, in wrapper\\n    estimator._validate_params()\\n  File \"/usr/local/lib/python3.11/dist-packages/sklearn/base.py\", line 436, in _validate_params\\n    validate_parameter_constraints(\\n  File \"/usr/local/lib/python3.11/dist-packages/sklearn/utils/_param_validation.py\", line 98, in validate_parameter_constraints\\n    raise InvalidParameterError(\\nsklearn.utils._param_validation.InvalidParameterError: The \\'max_features\\' parameter of DecisionTreeClassifier must be an int in the range [1, inf), a float in the range (0.0, 1.0], a str among {\\'sqrt\\', \\'log2\\'} or None. Got \\'auto\\' instead.\\n')\u001b[0m\n",
            "Traceback (most recent call last):\n",
            "  File \"/usr/local/lib/python3.11/dist-packages/optuna/study/_optimize.py\", line 213, in _run_trial\n",
            "    value_or_values = func(trial)\n",
            "                      ^^^^^^^^^^^\n",
            "  File \"/tmp/ipython-input-10-813848805.py\", line 31, in __call__\n",
            "    scores = cross_validate(model,\n",
            "             ^^^^^^^^^^^^^^^^^^^^^\n",
            "  File \"/usr/local/lib/python3.11/dist-packages/sklearn/utils/_param_validation.py\", line 216, in wrapper\n",
            "    return func(*args, **kwargs)\n",
            "           ^^^^^^^^^^^^^^^^^^^^^\n",
            "  File \"/usr/local/lib/python3.11/dist-packages/sklearn/model_selection/_validation.py\", line 431, in cross_validate\n",
            "    _warn_or_raise_about_fit_failures(results, error_score)\n",
            "  File \"/usr/local/lib/python3.11/dist-packages/sklearn/model_selection/_validation.py\", line 517, in _warn_or_raise_about_fit_failures\n",
            "    raise ValueError(all_fits_failed_message)\n",
            "ValueError: \n",
            "All the 5 fits failed.\n",
            "It is very likely that your model is misconfigured.\n",
            "You can try to debug the error by setting error_score='raise'.\n",
            "\n",
            "Below are more details about the failures:\n",
            "--------------------------------------------------------------------------------\n",
            "2 fits failed with the following error:\n",
            "Traceback (most recent call last):\n",
            "  File \"/usr/local/lib/python3.11/dist-packages/sklearn/model_selection/_validation.py\", line 866, in _fit_and_score\n",
            "    estimator.fit(X_train, y_train, **fit_params)\n",
            "  File \"/usr/local/lib/python3.11/dist-packages/sklearn/base.py\", line 1382, in wrapper\n",
            "    estimator._validate_params()\n",
            "  File \"/usr/local/lib/python3.11/dist-packages/sklearn/base.py\", line 436, in _validate_params\n",
            "    validate_parameter_constraints(\n",
            "  File \"/usr/local/lib/python3.11/dist-packages/sklearn/utils/_param_validation.py\", line 98, in validate_parameter_constraints\n",
            "    raise InvalidParameterError(\n",
            "sklearn.utils._param_validation.InvalidParameterError: The 'max_features' parameter of DecisionTreeClassifier must be an int in the range [1, inf), a float in the range (0.0, 1.0], a str among {'log2', 'sqrt'} or None. Got 'auto' instead.\n",
            "\n",
            "--------------------------------------------------------------------------------\n",
            "3 fits failed with the following error:\n",
            "Traceback (most recent call last):\n",
            "  File \"/usr/local/lib/python3.11/dist-packages/sklearn/model_selection/_validation.py\", line 866, in _fit_and_score\n",
            "    estimator.fit(X_train, y_train, **fit_params)\n",
            "  File \"/usr/local/lib/python3.11/dist-packages/sklearn/base.py\", line 1382, in wrapper\n",
            "    estimator._validate_params()\n",
            "  File \"/usr/local/lib/python3.11/dist-packages/sklearn/base.py\", line 436, in _validate_params\n",
            "    validate_parameter_constraints(\n",
            "  File \"/usr/local/lib/python3.11/dist-packages/sklearn/utils/_param_validation.py\", line 98, in validate_parameter_constraints\n",
            "    raise InvalidParameterError(\n",
            "sklearn.utils._param_validation.InvalidParameterError: The 'max_features' parameter of DecisionTreeClassifier must be an int in the range [1, inf), a float in the range (0.0, 1.0], a str among {'sqrt', 'log2'} or None. Got 'auto' instead.\n",
            "\n"
          ]
        },
        {
          "output_type": "error",
          "ename": "ValueError",
          "evalue": "\nAll the 5 fits failed.\nIt is very likely that your model is misconfigured.\nYou can try to debug the error by setting error_score='raise'.\n\nBelow are more details about the failures:\n--------------------------------------------------------------------------------\n2 fits failed with the following error:\nTraceback (most recent call last):\n  File \"/usr/local/lib/python3.11/dist-packages/sklearn/model_selection/_validation.py\", line 866, in _fit_and_score\n    estimator.fit(X_train, y_train, **fit_params)\n  File \"/usr/local/lib/python3.11/dist-packages/sklearn/base.py\", line 1382, in wrapper\n    estimator._validate_params()\n  File \"/usr/local/lib/python3.11/dist-packages/sklearn/base.py\", line 436, in _validate_params\n    validate_parameter_constraints(\n  File \"/usr/local/lib/python3.11/dist-packages/sklearn/utils/_param_validation.py\", line 98, in validate_parameter_constraints\n    raise InvalidParameterError(\nsklearn.utils._param_validation.InvalidParameterError: The 'max_features' parameter of DecisionTreeClassifier must be an int in the range [1, inf), a float in the range (0.0, 1.0], a str among {'log2', 'sqrt'} or None. Got 'auto' instead.\n\n--------------------------------------------------------------------------------\n3 fits failed with the following error:\nTraceback (most recent call last):\n  File \"/usr/local/lib/python3.11/dist-packages/sklearn/model_selection/_validation.py\", line 866, in _fit_and_score\n    estimator.fit(X_train, y_train, **fit_params)\n  File \"/usr/local/lib/python3.11/dist-packages/sklearn/base.py\", line 1382, in wrapper\n    estimator._validate_params()\n  File \"/usr/local/lib/python3.11/dist-packages/sklearn/base.py\", line 436, in _validate_params\n    validate_parameter_constraints(\n  File \"/usr/local/lib/python3.11/dist-packages/sklearn/utils/_param_validation.py\", line 98, in validate_parameter_constraints\n    raise InvalidParameterError(\nsklearn.utils._param_validation.InvalidParameterError: The 'max_features' parameter of DecisionTreeClassifier must be an int in the range [1, inf), a float in the range (0.0, 1.0], a str among {'sqrt', 'log2'} or None. Got 'auto' instead.\n",
          "traceback": [
            "\u001b[0;31m---------------------------------------------------------------------------\u001b[0m",
            "\u001b[0;31mValueError\u001b[0m                                Traceback (most recent call last)",
            "\u001b[0;32m/tmp/ipython-input-10-813848805.py\u001b[0m in \u001b[0;36m<cell line: 0>\u001b[0;34m()\u001b[0m\n\u001b[1;32m     38\u001b[0m \u001b[0mstudy\u001b[0m \u001b[0;34m=\u001b[0m \u001b[0moptuna\u001b[0m\u001b[0;34m.\u001b[0m\u001b[0mcreate_study\u001b[0m\u001b[0;34m(\u001b[0m\u001b[0mdirection\u001b[0m\u001b[0;34m=\u001b[0m\u001b[0;34m'maximize'\u001b[0m\u001b[0;34m)\u001b[0m\u001b[0;34m\u001b[0m\u001b[0;34m\u001b[0m\u001b[0m\n\u001b[1;32m     39\u001b[0m \u001b[0;31m# timeoutに60を指定し、最大で1分間探索させる\u001b[0m\u001b[0;34m\u001b[0m\u001b[0;34m\u001b[0m\u001b[0m\n\u001b[0;32m---> 40\u001b[0;31m \u001b[0mstudy\u001b[0m\u001b[0;34m.\u001b[0m\u001b[0moptimize\u001b[0m\u001b[0;34m(\u001b[0m\u001b[0mobjective\u001b[0m\u001b[0;34m,\u001b[0m \u001b[0mtimeout\u001b[0m\u001b[0;34m=\u001b[0m\u001b[0;36m60\u001b[0m\u001b[0;34m)\u001b[0m\u001b[0;34m\u001b[0m\u001b[0;34m\u001b[0m\u001b[0m\n\u001b[0m\u001b[1;32m     41\u001b[0m \u001b[0mprint\u001b[0m\u001b[0;34m(\u001b[0m\u001b[0;34m'params:'\u001b[0m\u001b[0;34m,\u001b[0m \u001b[0mstudy\u001b[0m\u001b[0;34m.\u001b[0m\u001b[0mbest_params\u001b[0m\u001b[0;34m)\u001b[0m\u001b[0;34m\u001b[0m\u001b[0;34m\u001b[0m\u001b[0m\n",
            "\u001b[0;32m/usr/local/lib/python3.11/dist-packages/optuna/study/study.py\u001b[0m in \u001b[0;36moptimize\u001b[0;34m(self, func, n_trials, timeout, n_jobs, catch, callbacks, gc_after_trial, show_progress_bar)\u001b[0m\n\u001b[1;32m    398\u001b[0m             )\n\u001b[1;32m    399\u001b[0m \u001b[0;34m\u001b[0m\u001b[0m\n\u001b[0;32m--> 400\u001b[0;31m         _optimize(\n\u001b[0m\u001b[1;32m    401\u001b[0m             \u001b[0mstudy\u001b[0m\u001b[0;34m=\u001b[0m\u001b[0mself\u001b[0m\u001b[0;34m,\u001b[0m\u001b[0;34m\u001b[0m\u001b[0;34m\u001b[0m\u001b[0m\n\u001b[1;32m    402\u001b[0m             \u001b[0mfunc\u001b[0m\u001b[0;34m=\u001b[0m\u001b[0mfunc\u001b[0m\u001b[0;34m,\u001b[0m\u001b[0;34m\u001b[0m\u001b[0;34m\u001b[0m\u001b[0m\n",
            "\u001b[0;32m/usr/local/lib/python3.11/dist-packages/optuna/study/_optimize.py\u001b[0m in \u001b[0;36m_optimize\u001b[0;34m(study, func, n_trials, timeout, n_jobs, catch, callbacks, gc_after_trial, show_progress_bar)\u001b[0m\n\u001b[1;32m     64\u001b[0m     \u001b[0;32mtry\u001b[0m\u001b[0;34m:\u001b[0m\u001b[0;34m\u001b[0m\u001b[0;34m\u001b[0m\u001b[0m\n\u001b[1;32m     65\u001b[0m         \u001b[0;32mif\u001b[0m \u001b[0mn_jobs\u001b[0m \u001b[0;34m==\u001b[0m \u001b[0;36m1\u001b[0m\u001b[0;34m:\u001b[0m\u001b[0;34m\u001b[0m\u001b[0;34m\u001b[0m\u001b[0m\n\u001b[0;32m---> 66\u001b[0;31m             _optimize_sequential(\n\u001b[0m\u001b[1;32m     67\u001b[0m                 \u001b[0mstudy\u001b[0m\u001b[0;34m,\u001b[0m\u001b[0;34m\u001b[0m\u001b[0;34m\u001b[0m\u001b[0m\n\u001b[1;32m     68\u001b[0m                 \u001b[0mfunc\u001b[0m\u001b[0;34m,\u001b[0m\u001b[0;34m\u001b[0m\u001b[0;34m\u001b[0m\u001b[0m\n",
            "\u001b[0;32m/usr/local/lib/python3.11/dist-packages/optuna/study/_optimize.py\u001b[0m in \u001b[0;36m_optimize_sequential\u001b[0;34m(study, func, n_trials, timeout, catch, callbacks, gc_after_trial, reseed_sampler_rng, time_start, progress_bar)\u001b[0m\n\u001b[1;32m    161\u001b[0m \u001b[0;34m\u001b[0m\u001b[0m\n\u001b[1;32m    162\u001b[0m         \u001b[0;32mtry\u001b[0m\u001b[0;34m:\u001b[0m\u001b[0;34m\u001b[0m\u001b[0;34m\u001b[0m\u001b[0m\n\u001b[0;32m--> 163\u001b[0;31m             \u001b[0mtrial\u001b[0m \u001b[0;34m=\u001b[0m \u001b[0m_run_trial\u001b[0m\u001b[0;34m(\u001b[0m\u001b[0mstudy\u001b[0m\u001b[0;34m,\u001b[0m \u001b[0mfunc\u001b[0m\u001b[0;34m,\u001b[0m \u001b[0mcatch\u001b[0m\u001b[0;34m)\u001b[0m\u001b[0;34m\u001b[0m\u001b[0;34m\u001b[0m\u001b[0m\n\u001b[0m\u001b[1;32m    164\u001b[0m         \u001b[0;32mexcept\u001b[0m \u001b[0mException\u001b[0m\u001b[0;34m:\u001b[0m\u001b[0;34m\u001b[0m\u001b[0;34m\u001b[0m\u001b[0m\n\u001b[1;32m    165\u001b[0m             \u001b[0;32mraise\u001b[0m\u001b[0;34m\u001b[0m\u001b[0;34m\u001b[0m\u001b[0m\n",
            "\u001b[0;32m/usr/local/lib/python3.11/dist-packages/optuna/study/_optimize.py\u001b[0m in \u001b[0;36m_run_trial\u001b[0;34m(study, func, catch)\u001b[0m\n\u001b[1;32m    262\u001b[0m \u001b[0;34m\u001b[0m\u001b[0m\n\u001b[1;32m    263\u001b[0m     \u001b[0;32mif\u001b[0m \u001b[0mstate\u001b[0m \u001b[0;34m==\u001b[0m \u001b[0mTrialState\u001b[0m\u001b[0;34m.\u001b[0m\u001b[0mFAIL\u001b[0m \u001b[0;32mand\u001b[0m \u001b[0mfunc_err\u001b[0m \u001b[0;32mis\u001b[0m \u001b[0;32mnot\u001b[0m \u001b[0;32mNone\u001b[0m \u001b[0;32mand\u001b[0m \u001b[0;32mnot\u001b[0m \u001b[0misinstance\u001b[0m\u001b[0;34m(\u001b[0m\u001b[0mfunc_err\u001b[0m\u001b[0;34m,\u001b[0m \u001b[0mcatch\u001b[0m\u001b[0;34m)\u001b[0m\u001b[0;34m:\u001b[0m\u001b[0;34m\u001b[0m\u001b[0;34m\u001b[0m\u001b[0m\n\u001b[0;32m--> 264\u001b[0;31m         \u001b[0;32mraise\u001b[0m \u001b[0mfunc_err\u001b[0m\u001b[0;34m\u001b[0m\u001b[0;34m\u001b[0m\u001b[0m\n\u001b[0m\u001b[1;32m    265\u001b[0m     \u001b[0;32mreturn\u001b[0m \u001b[0mtrial\u001b[0m\u001b[0;34m\u001b[0m\u001b[0;34m\u001b[0m\u001b[0m\n\u001b[1;32m    266\u001b[0m \u001b[0;34m\u001b[0m\u001b[0m\n",
            "\u001b[0;32m/usr/local/lib/python3.11/dist-packages/optuna/study/_optimize.py\u001b[0m in \u001b[0;36m_run_trial\u001b[0;34m(study, func, catch)\u001b[0m\n\u001b[1;32m    211\u001b[0m \u001b[0;34m\u001b[0m\u001b[0m\n\u001b[1;32m    212\u001b[0m     \u001b[0;32mtry\u001b[0m\u001b[0;34m:\u001b[0m\u001b[0;34m\u001b[0m\u001b[0;34m\u001b[0m\u001b[0m\n\u001b[0;32m--> 213\u001b[0;31m         \u001b[0mvalue_or_values\u001b[0m \u001b[0;34m=\u001b[0m \u001b[0mfunc\u001b[0m\u001b[0;34m(\u001b[0m\u001b[0mtrial\u001b[0m\u001b[0;34m)\u001b[0m\u001b[0;34m\u001b[0m\u001b[0;34m\u001b[0m\u001b[0m\n\u001b[0m\u001b[1;32m    214\u001b[0m     \u001b[0;32mexcept\u001b[0m \u001b[0mexceptions\u001b[0m\u001b[0;34m.\u001b[0m\u001b[0mTrialPruned\u001b[0m \u001b[0;32mas\u001b[0m \u001b[0me\u001b[0m\u001b[0;34m:\u001b[0m\u001b[0;34m\u001b[0m\u001b[0;34m\u001b[0m\u001b[0m\n\u001b[1;32m    215\u001b[0m         \u001b[0;31m# TODO(mamu): Handle multi-objective cases.\u001b[0m\u001b[0;34m\u001b[0m\u001b[0;34m\u001b[0m\u001b[0m\n",
            "\u001b[0;32m/tmp/ipython-input-10-813848805.py\u001b[0m in \u001b[0;36m__call__\u001b[0;34m(self, trial)\u001b[0m\n\u001b[1;32m     29\u001b[0m \u001b[0;34m\u001b[0m\u001b[0m\n\u001b[1;32m     30\u001b[0m         \u001b[0;31m# 評価指標として正解率の最大化を目指す\u001b[0m\u001b[0;34m\u001b[0m\u001b[0;34m\u001b[0m\u001b[0m\n\u001b[0;32m---> 31\u001b[0;31m         scores = cross_validate(model,\n\u001b[0m\u001b[1;32m     32\u001b[0m                                 \u001b[0mX\u001b[0m\u001b[0;34m=\u001b[0m\u001b[0mself\u001b[0m\u001b[0;34m.\u001b[0m\u001b[0mX\u001b[0m\u001b[0;34m,\u001b[0m \u001b[0my\u001b[0m\u001b[0;34m=\u001b[0m\u001b[0mself\u001b[0m\u001b[0;34m.\u001b[0m\u001b[0my\u001b[0m\u001b[0;34m,\u001b[0m\u001b[0;34m\u001b[0m\u001b[0;34m\u001b[0m\u001b[0m\n\u001b[1;32m     33\u001b[0m                                 \u001b[0mscoring\u001b[0m\u001b[0;34m=\u001b[0m\u001b[0;34m'accuracy'\u001b[0m\u001b[0;34m,\u001b[0m\u001b[0;34m\u001b[0m\u001b[0;34m\u001b[0m\u001b[0m\n",
            "\u001b[0;32m/usr/local/lib/python3.11/dist-packages/sklearn/utils/_param_validation.py\u001b[0m in \u001b[0;36mwrapper\u001b[0;34m(*args, **kwargs)\u001b[0m\n\u001b[1;32m    214\u001b[0m                     )\n\u001b[1;32m    215\u001b[0m                 ):\n\u001b[0;32m--> 216\u001b[0;31m                     \u001b[0;32mreturn\u001b[0m \u001b[0mfunc\u001b[0m\u001b[0;34m(\u001b[0m\u001b[0;34m*\u001b[0m\u001b[0margs\u001b[0m\u001b[0;34m,\u001b[0m \u001b[0;34m**\u001b[0m\u001b[0mkwargs\u001b[0m\u001b[0;34m)\u001b[0m\u001b[0;34m\u001b[0m\u001b[0;34m\u001b[0m\u001b[0m\n\u001b[0m\u001b[1;32m    217\u001b[0m             \u001b[0;32mexcept\u001b[0m \u001b[0mInvalidParameterError\u001b[0m \u001b[0;32mas\u001b[0m \u001b[0me\u001b[0m\u001b[0;34m:\u001b[0m\u001b[0;34m\u001b[0m\u001b[0;34m\u001b[0m\u001b[0m\n\u001b[1;32m    218\u001b[0m                 \u001b[0;31m# When the function is just a wrapper around an estimator, we allow\u001b[0m\u001b[0;34m\u001b[0m\u001b[0;34m\u001b[0m\u001b[0m\n",
            "\u001b[0;32m/usr/local/lib/python3.11/dist-packages/sklearn/model_selection/_validation.py\u001b[0m in \u001b[0;36mcross_validate\u001b[0;34m(estimator, X, y, groups, scoring, cv, n_jobs, verbose, params, pre_dispatch, return_train_score, return_estimator, return_indices, error_score)\u001b[0m\n\u001b[1;32m    429\u001b[0m     )\n\u001b[1;32m    430\u001b[0m \u001b[0;34m\u001b[0m\u001b[0m\n\u001b[0;32m--> 431\u001b[0;31m     \u001b[0m_warn_or_raise_about_fit_failures\u001b[0m\u001b[0;34m(\u001b[0m\u001b[0mresults\u001b[0m\u001b[0;34m,\u001b[0m \u001b[0merror_score\u001b[0m\u001b[0;34m)\u001b[0m\u001b[0;34m\u001b[0m\u001b[0;34m\u001b[0m\u001b[0m\n\u001b[0m\u001b[1;32m    432\u001b[0m \u001b[0;34m\u001b[0m\u001b[0m\n\u001b[1;32m    433\u001b[0m     \u001b[0;31m# For callable scoring, the return type is only know after calling. If the\u001b[0m\u001b[0;34m\u001b[0m\u001b[0;34m\u001b[0m\u001b[0m\n",
            "\u001b[0;32m/usr/local/lib/python3.11/dist-packages/sklearn/model_selection/_validation.py\u001b[0m in \u001b[0;36m_warn_or_raise_about_fit_failures\u001b[0;34m(results, error_score)\u001b[0m\n\u001b[1;32m    515\u001b[0m                 \u001b[0;34mf\"Below are more details about the failures:\\n{fit_errors_summary}\"\u001b[0m\u001b[0;34m\u001b[0m\u001b[0;34m\u001b[0m\u001b[0m\n\u001b[1;32m    516\u001b[0m             )\n\u001b[0;32m--> 517\u001b[0;31m             \u001b[0;32mraise\u001b[0m \u001b[0mValueError\u001b[0m\u001b[0;34m(\u001b[0m\u001b[0mall_fits_failed_message\u001b[0m\u001b[0;34m)\u001b[0m\u001b[0;34m\u001b[0m\u001b[0;34m\u001b[0m\u001b[0m\n\u001b[0m\u001b[1;32m    518\u001b[0m \u001b[0;34m\u001b[0m\u001b[0m\n\u001b[1;32m    519\u001b[0m         \u001b[0;32melse\u001b[0m\u001b[0;34m:\u001b[0m\u001b[0;34m\u001b[0m\u001b[0;34m\u001b[0m\u001b[0m\n",
            "\u001b[0;31mValueError\u001b[0m: \nAll the 5 fits failed.\nIt is very likely that your model is misconfigured.\nYou can try to debug the error by setting error_score='raise'.\n\nBelow are more details about the failures:\n--------------------------------------------------------------------------------\n2 fits failed with the following error:\nTraceback (most recent call last):\n  File \"/usr/local/lib/python3.11/dist-packages/sklearn/model_selection/_validation.py\", line 866, in _fit_and_score\n    estimator.fit(X_train, y_train, **fit_params)\n  File \"/usr/local/lib/python3.11/dist-packages/sklearn/base.py\", line 1382, in wrapper\n    estimator._validate_params()\n  File \"/usr/local/lib/python3.11/dist-packages/sklearn/base.py\", line 436, in _validate_params\n    validate_parameter_constraints(\n  File \"/usr/local/lib/python3.11/dist-packages/sklearn/utils/_param_validation.py\", line 98, in validate_parameter_constraints\n    raise InvalidParameterError(\nsklearn.utils._param_validation.InvalidParameterError: The 'max_features' parameter of DecisionTreeClassifier must be an int in the range [1, inf), a float in the range (0.0, 1.0], a str among {'log2', 'sqrt'} or None. Got 'auto' instead.\n\n--------------------------------------------------------------------------------\n3 fits failed with the following error:\nTraceback (most recent call last):\n  File \"/usr/local/lib/python3.11/dist-packages/sklearn/model_selection/_validation.py\", line 866, in _fit_and_score\n    estimator.fit(X_train, y_train, **fit_params)\n  File \"/usr/local/lib/python3.11/dist-packages/sklearn/base.py\", line 1382, in wrapper\n    estimator._validate_params()\n  File \"/usr/local/lib/python3.11/dist-packages/sklearn/base.py\", line 436, in _validate_params\n    validate_parameter_constraints(\n  File \"/usr/local/lib/python3.11/dist-packages/sklearn/utils/_param_validation.py\", line 98, in validate_parameter_constraints\n    raise InvalidParameterError(\nsklearn.utils._param_validation.InvalidParameterError: The 'max_features' parameter of DecisionTreeClassifier must be an int in the range [1, inf), a float in the range (0.0, 1.0], a str among {'sqrt', 'log2'} or None. Got 'auto' instead.\n"
          ]
        }
      ]
    },
    {
      "cell_type": "code",
      "metadata": {
        "id": "K0YTQ22b9YxH"
      },
      "source": [
        "from sklearn.metrics import confusion_matrix\n",
        "from sklearn.metrics import accuracy_score, precision_score, recall_score\n",
        "\n",
        "model = DecisionTreeClassifier(\n",
        "    # ハイパーパラメータ探索で特定した値を設定\n",
        "    criterion = study.best_params['criterion'],\n",
        "    splitter = study.best_params['splitter'],\n",
        "    max_features = study.best_params['max_features'],\n",
        "    min_samples_split = study.best_params['min_samples_split'],\n",
        "    max_depth = study.best_params['max_depth']\n",
        ")\n",
        "\n",
        "model.fit(X_train, y_train)\n",
        "pred = model.predict(X_test)\n",
        "\n",
        "# 正解率の出力\n",
        "print(\"Accuracy: {:.5f} %\".format(100 * accuracy_score(y_test, pred)))\n",
        "# 適合率の出力\n",
        "print(\"Precision: {:.5f} %\".format(100 * precision_score(y_test, pred,)))\n",
        "# 再現率の出力\n",
        "print(\"Recall: {:.5f} %\".format(100 * recall_score(y_test, pred)))\n",
        "# 混同行列の出力\n",
        "print(confusion_matrix(y_test, pred))"
      ],
      "execution_count": null,
      "outputs": []
    },
    {
      "cell_type": "markdown",
      "metadata": {
        "id": "TwDgHRK6yq1w"
      },
      "source": [
        "### tf-idfを使った迷惑メール検出"
      ]
    },
    {
      "cell_type": "code",
      "metadata": {
        "id": "MRwvnhoHKJIF"
      },
      "source": [
        "!wget https://github.com/oreilly-japan/ml-security-jp/raw/master/ch02/enron1.zip"
      ],
      "execution_count": null,
      "outputs": []
    },
    {
      "cell_type": "code",
      "metadata": {
        "id": "CF5r5b1qLQNd"
      },
      "source": [
        "!unzip -q enron1.zip"
      ],
      "execution_count": null,
      "outputs": []
    },
    {
      "cell_type": "code",
      "metadata": {
        "id": "K1ntXsNTLmPU"
      },
      "source": [
        "!ls ./enron1/ham"
      ],
      "execution_count": null,
      "outputs": []
    },
    {
      "cell_type": "code",
      "metadata": {
        "id": "GcLqTwzJoyRz"
      },
      "source": [
        "from sklearn.metrics import accuracy_score\n",
        "from sklearn.model_selection import train_test_split\n",
        "import numpy as np\n",
        "import optuna\n",
        "from sklearn.model_selection import StratifiedKFold, cross_validate\n",
        "import os\n",
        "import codecs"
      ],
      "execution_count": null,
      "outputs": []
    },
    {
      "cell_type": "code",
      "metadata": {
        "id": "EJl6H8UmMu22"
      },
      "source": [
        "def init_lists(folder):\n",
        "    key_list = []\n",
        "    file_list = os.listdir(folder)\n",
        "    for filename in file_list:\n",
        "        f = codecs.open(folder + filename, 'r', encoding='utf-8', errors='ignore')\n",
        "        key_list.append(f.read())\n",
        "    f.close()\n",
        "    return key_list\n",
        "\n",
        "all_mails = list()\n",
        "spam = init_lists('./enron1/spam/')\n",
        "ham = init_lists('./enron1/ham/')\n",
        "# リストにした迷惑メール(spam)と、通常のメール(ham)を別のリストにコピーし、迷惑メールの場合はラベルを1に、そうでない場合は0にする\n",
        "all_mails = [(mail, '1') for mail in spam]\n",
        "all_mails += [(mail, '0') for mail in ham]"
      ],
      "execution_count": null,
      "outputs": []
    },
    {
      "cell_type": "code",
      "metadata": {
        "id": "oo6chOK7N1t4"
      },
      "source": [
        "import pandas as pd\n",
        "# DataFrameにメールの文面とラベルを列に設定してロードする\n",
        "df = pd.DataFrame(all_mails, columns=['text', 'label'])"
      ],
      "execution_count": null,
      "outputs": []
    },
    {
      "cell_type": "code",
      "metadata": {
        "id": "_GH8UEqbOiAU"
      },
      "source": [
        "df"
      ],
      "execution_count": null,
      "outputs": []
    },
    {
      "cell_type": "code",
      "metadata": {
        "id": "Qsbz6P6dO6RS"
      },
      "source": [
        "from sklearn.feature_extraction.text import TfidfVectorizer\n",
        "# TfidfVectorizerを初期化する。stop_wordsにenglishを指定し、一般的な単語を除外する\n",
        "tfidf = TfidfVectorizer(stop_words=\"english\", lowercase=False)\n",
        "\n",
        "X = tfidf.fit_transform(df['text'])\n",
        "column_names = tfidf.get_feature_names()\n",
        "\n",
        "# Xにベクトル化した値を整形して代入\n",
        "X = pd.DataFrame(X.toarray())\n",
        "X = X.astype('float')\n",
        "# カラム名を設定\n",
        "X.columns = column_names\n",
        "y = df['label'].astype('float')"
      ],
      "execution_count": null,
      "outputs": []
    },
    {
      "cell_type": "code",
      "metadata": {
        "id": "bSy_aU8Cixg6"
      },
      "source": [
        "X"
      ],
      "execution_count": null,
      "outputs": []
    },
    {
      "cell_type": "code",
      "metadata": {
        "id": "RM6apRkrlvoN"
      },
      "source": [
        "from sklearn.model_selection import cross_validate\n",
        "from sklearn.model_selection import train_test_split\n",
        "import optuna.integration.lightgbm as olgb\n",
        "import optuna\n",
        "\n",
        "# データセットを訓練用とテスト用に分割\n",
        "X_train, X_test, y_train, y_test =\\\n",
        " train_test_split(X, y, test_size=0.2, shuffle=True, random_state=101)\n",
        "\n",
        "# LightGBM用のデータセットに変換\n",
        "train = olgb.Dataset(X_train, y_train)\n",
        "\n",
        "# パラメータの設定\n",
        "params = {\n",
        "    \"objective\": \"binary\",\n",
        "    \"verbosity\": -1,\n",
        "    \"boosting_type\": \"gbdt\",\n",
        "}\n",
        "\n",
        "# 交差検証を使用したハイパーパラメータの探索\n",
        "tuner = olgb.LightGBMTunerCV(params, train, num_boost_round=100)\n",
        "\n",
        "# ハイパーパラメータ探索の実行\n",
        "tuner.run()"
      ],
      "execution_count": null,
      "outputs": []
    },
    {
      "cell_type": "code",
      "metadata": {
        "id": "BRzES3x3h39u"
      },
      "source": [
        "print(\"Best score:\", 1 - tuner.best_score)\n",
        "best_params = tuner.best_params\n",
        "\n",
        "print(\"Best Params: \")\n",
        "for key, value in best_params.items():\n",
        "    print(\"    {}: {}\".format(key, value))"
      ],
      "execution_count": null,
      "outputs": []
    },
    {
      "cell_type": "code",
      "metadata": {
        "id": "OrsH156viBTB"
      },
      "source": [
        "import lightgbm as lgb\n",
        "from sklearn.model_selection import train_test_split\n",
        "from sklearn.metrics import accuracy_score, confusion_matrix\n",
        "\n",
        "# 訓練データとテストデータを設定\n",
        "train_data = lgb.Dataset(X_train, label=y_train)\n",
        "test_data = lgb.Dataset(X_test, label=y_test)\n",
        "\n",
        "# ハイパーパラメータ探索で特定した値を設定\n",
        "params = {\n",
        "    'objective': 'binary',\n",
        "    'verbosity': -1,\n",
        "    'boosting_type': 'gbdt',\n",
        "    'lambda_l1': best_params['lambda_l1'],\n",
        "    'lambda_l2': best_params['lambda_l2'],\n",
        "    'num_leaves': best_params['num_leaves'],\n",
        "    'feature_fraction': best_params['feature_fraction'],\n",
        "    'bagging_fraction': best_params['bagging_fraction'],\n",
        "    'bagging_freq': best_params['bagging_freq'],\n",
        "    'min_child_samples': best_params['min_child_samples']\n",
        "}\n",
        "\n",
        "# 訓練の実施\n",
        "gbm = lgb.train(\n",
        "    params,\n",
        "    train_data,\n",
        "    num_boost_round=100,\n",
        "    verbose_eval=0,\n",
        ")\n",
        "\n",
        "# テスト用データを使って予測する\n",
        "preds = gbm.predict(X_test)\n",
        "# 返り値は確率になっているので四捨五入する\n",
        "pred_labels = np.rint(preds)\n",
        "# 正解率と混同行列の出力\n",
        "print(\"Accuracy: {:.5f} %\".format(100 * accuracy_score(y_test, pred_labels)))\n",
        "print(confusion_matrix(y_test, pred_labels))"
      ],
      "execution_count": null,
      "outputs": []
    },
    {
      "cell_type": "code",
      "metadata": {
        "id": "dyVAAWRyjzXI"
      },
      "source": [
        "import matplotlib.pyplot as plt\n",
        "lgb.plot_importance(gbm, figsize=(12, 6), max_num_features=10)\n",
        "plt.show()"
      ],
      "execution_count": null,
      "outputs": []
    },
    {
      "cell_type": "code",
      "metadata": {
        "id": "I4xugBNu57WA"
      },
      "source": [
        "spam_rows = (df.label == '1')\n",
        "spam_data = df[spam_rows]\n",
        "\n",
        "count = 0\n",
        "for i in spam_data['text']:\n",
        "    count = count + i.count('subject')\n",
        "\n",
        "print(count)"
      ],
      "execution_count": null,
      "outputs": []
    },
    {
      "cell_type": "code",
      "metadata": {
        "id": "DGDnU49e6ji4"
      },
      "source": [
        "legit_rows = (df.label == '0')\n",
        "legit_data = df[legit_rows]\n",
        "\n",
        "count = 0\n",
        "for i in legit_data['text']:\n",
        "    count = count + i.count('subject')\n",
        "\n",
        "print(count)"
      ],
      "execution_count": null,
      "outputs": []
    }
  ]
}